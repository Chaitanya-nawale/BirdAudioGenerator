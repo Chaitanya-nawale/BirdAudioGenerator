{
 "cells": [
  {
   "metadata": {
    "ExecuteTime": {
     "end_time": "2025-05-29T13:16:41.912268Z",
     "start_time": "2025-05-29T13:16:41.444219Z"
    }
   },
   "cell_type": "code",
   "source": [
    "import json\n",
    "import pandas as pd"
   ],
   "id": "cb071a530bb31fba",
   "outputs": [],
   "execution_count": 1
  },
  {
   "metadata": {
    "ExecuteTime": {
     "end_time": "2025-05-29T13:16:42.715762Z",
     "start_time": "2025-05-29T13:16:42.619110Z"
    }
   },
   "cell_type": "code",
   "source": [
    "with open('inaturalist_train_label.json', 'r') as file:\n",
    "    train_labels = json.load(file)"
   ],
   "id": "cb2b43aa860d01a",
   "outputs": [],
   "execution_count": 2
  },
  {
   "metadata": {
    "ExecuteTime": {
     "end_time": "2025-05-29T13:16:44.491096Z",
     "start_time": "2025-05-29T13:16:44.453183Z"
    }
   },
   "cell_type": "code",
   "source": [
    "with open('inaturalist_test_label.json', 'r') as file:\n",
    "    test_labels = json.load(file)"
   ],
   "id": "aff0f70e503c47d4",
   "outputs": [],
   "execution_count": 3
  },
  {
   "metadata": {
    "ExecuteTime": {
     "end_time": "2025-05-29T13:16:45.673161Z",
     "start_time": "2025-05-29T13:16:45.633896Z"
    }
   },
   "cell_type": "code",
   "source": [
    "with open('inaturalist_val_label.json', 'r') as file:\n",
    "    val_labels = json.load(file)"
   ],
   "id": "e52514d7894ddeb8",
   "outputs": [],
   "execution_count": 4
  },
  {
   "metadata": {
    "ExecuteTime": {
     "end_time": "2025-05-29T13:16:48.070738Z",
     "start_time": "2025-05-29T13:16:47.923428Z"
    }
   },
   "cell_type": "code",
   "source": [
    "train_labels_dataframe = pd.DataFrame(train_labels['data'])\n",
    "test_labels_dataframe = pd.DataFrame(test_labels['data'])\n",
    "val_labels_dataframe = pd.DataFrame(val_labels['data'])"
   ],
   "id": "411aad6a9a0f04e2",
   "outputs": [],
   "execution_count": 5
  },
  {
   "metadata": {
    "ExecuteTime": {
     "end_time": "2025-05-29T13:16:51.782637Z",
     "start_time": "2025-05-29T13:16:51.771024Z"
    }
   },
   "cell_type": "code",
   "source": "combined_dataframe = pd.concat([train_labels_dataframe, test_labels_dataframe, val_labels_dataframe])",
   "id": "a5764bd0376517f4",
   "outputs": [],
   "execution_count": 6
  },
  {
   "metadata": {
    "ExecuteTime": {
     "end_time": "2025-05-29T13:17:01.881327Z",
     "start_time": "2025-05-29T13:17:01.790968Z"
    }
   },
   "cell_type": "code",
   "source": "combined_dataframe.info()",
   "id": "83145d67f2027a77",
   "outputs": [
    {
     "name": "stdout",
     "output_type": "stream",
     "text": [
      "<class 'pandas.core.frame.DataFrame'>\n",
      "Index: 167527 entries, 0 to 33128\n",
      "Data columns (total 3 columns):\n",
      " #   Column   Non-Null Count   Dtype \n",
      "---  ------   --------------   ----- \n",
      " 0   wav      167527 non-null  object\n",
      " 1   labels   167527 non-null  int64 \n",
      " 2   caption  167527 non-null  object\n",
      "dtypes: int64(1), object(2)\n",
      "memory usage: 5.1+ MB\n"
     ]
    }
   ],
   "execution_count": 8
  },
  {
   "metadata": {
    "ExecuteTime": {
     "end_time": "2025-05-29T13:17:10.241048Z",
     "start_time": "2025-05-29T13:17:10.216275Z"
    }
   },
   "cell_type": "code",
   "source": "combined_dataframe['labels'].value_counts()",
   "id": "1d156f0789c46164",
   "outputs": [
    {
     "data": {
      "text/plain": [
       "labels\n",
       "986    1200\n",
       "912    1200\n",
       "960    1200\n",
       "983    1200\n",
       "554    1200\n",
       "       ... \n",
       "96        1\n",
       "396       1\n",
       "190       1\n",
       "58        1\n",
       "69        1\n",
       "Name: count, Length: 1244, dtype: int64"
      ]
     },
     "execution_count": 9,
     "metadata": {},
     "output_type": "execute_result"
    }
   ],
   "execution_count": 9
  },
  {
   "metadata": {
    "ExecuteTime": {
     "end_time": "2025-05-29T13:17:20.074250Z",
     "start_time": "2025-05-29T13:17:19.945322Z"
    }
   },
   "cell_type": "code",
   "source": "combined_dataframe = combined_dataframe.groupby('labels').filter(lambda g: len(g) >= 50)",
   "id": "1fbfdad3f3d812b2",
   "outputs": [],
   "execution_count": 10
  },
  {
   "metadata": {
    "ExecuteTime": {
     "end_time": "2025-05-29T13:17:30.003108Z",
     "start_time": "2025-05-29T13:17:29.980230Z"
    }
   },
   "cell_type": "code",
   "source": "combined_dataframe['labels'].value_counts()",
   "id": "2e9589d5352ff167",
   "outputs": [
    {
     "data": {
      "text/plain": [
       "labels\n",
       "1042    1200\n",
       "498     1200\n",
       "849     1200\n",
       "986     1200\n",
       "824     1200\n",
       "        ... \n",
       "522       50\n",
       "109       50\n",
       "838       50\n",
       "953       50\n",
       "623       50\n",
       "Name: count, Length: 544, dtype: int64"
      ]
     },
     "execution_count": 11,
     "metadata": {},
     "output_type": "execute_result"
    }
   ],
   "execution_count": 11
  },
  {
   "metadata": {
    "ExecuteTime": {
     "end_time": "2025-05-29T13:25:52.314301Z",
     "start_time": "2025-05-29T13:25:52.301517Z"
    }
   },
   "cell_type": "code",
   "source": "print(len(combined_dataframe))",
   "id": "9c5509d1cc11105b",
   "outputs": [
    {
     "name": "stdout",
     "output_type": "stream",
     "text": [
      "159165\n"
     ]
    }
   ],
   "execution_count": 14
  },
  {
   "metadata": {
    "ExecuteTime": {
     "end_time": "2025-05-29T13:21:17.429330Z",
     "start_time": "2025-05-29T13:21:16.260392Z"
    }
   },
   "cell_type": "code",
   "source": "from sklearn.model_selection import train_test_split",
   "id": "3080e10a8a05f4d7",
   "outputs": [],
   "execution_count": 12
  },
  {
   "metadata": {
    "ExecuteTime": {
     "end_time": "2025-05-29T13:21:24.463922Z",
     "start_time": "2025-05-29T13:21:24.337590Z"
    }
   },
   "cell_type": "code",
   "source": [
    "def stratified_split(df, label_col='labels'):\n",
    "    # Step 1: Split into 80% train and 20% temp (which will be split into val and test)\n",
    "    train_df, temp_df = train_test_split(\n",
    "        df,\n",
    "        test_size=0.2,\n",
    "        stratify=df[label_col],\n",
    "        random_state=42\n",
    "    )\n",
    "\n",
    "    # Step 2: Split the 20% temp into 10% val and 10% test (i.e., 50% of temp each)\n",
    "    val_df, test_df = train_test_split(\n",
    "        temp_df,\n",
    "        test_size=0.5,\n",
    "        stratify=temp_df[label_col],\n",
    "        random_state=42\n",
    "    )\n",
    "\n",
    "    return train_df, val_df, test_df\n",
    "\n",
    "# Usage\n",
    "train_df, val_df, test_df = stratified_split(combined_dataframe, label_col='labels')\n"
   ],
   "id": "a4ecf5186eaf84c6",
   "outputs": [],
   "execution_count": 13
  },
  {
   "metadata": {
    "ExecuteTime": {
     "end_time": "2025-05-29T13:28:30.286249Z",
     "start_time": "2025-05-29T13:28:29.861893Z"
    }
   },
   "cell_type": "code",
   "source": [
    "final_train_data = {}\n",
    "final_val_data = {}\n",
    "final_test_data = {}\n",
    "final_train_data['data'] = train_df.to_dict('records')\n",
    "final_val_data['data'] = val_df.to_dict('records')\n",
    "final_test_data['data'] = test_df.to_dict('records')"
   ],
   "id": "1c364214a56f2ae",
   "outputs": [],
   "execution_count": 16
  },
  {
   "metadata": {
    "ExecuteTime": {
     "end_time": "2025-05-29T13:28:55.990815Z",
     "start_time": "2025-05-29T13:28:55.976802Z"
    }
   },
   "cell_type": "code",
   "source": [
    "print(\"train size:\", len(train_df))\n",
    "print(\"val size:\", len(val_df))\n",
    "print(\"test size:\", len(test_df))"
   ],
   "id": "dec5bfc3dd67e9c9",
   "outputs": [
    {
     "name": "stdout",
     "output_type": "stream",
     "text": [
      "train size: 127332\n",
      "val size: 15916\n",
      "test size: 15917\n"
     ]
    }
   ],
   "execution_count": 18
  },
  {
   "metadata": {
    "ExecuteTime": {
     "end_time": "2025-05-29T13:30:35.762109Z",
     "start_time": "2025-05-29T13:30:35.624649Z"
    }
   },
   "cell_type": "code",
   "source": [
    "with open(\"inaturalist_new_val_label.json\", \"w\") as f:\n",
    "    json.dump(final_val_data, f)"
   ],
   "id": "a3e327ae9f09dd12",
   "outputs": [],
   "execution_count": 19
  },
  {
   "metadata": {
    "ExecuteTime": {
     "end_time": "2025-05-29T13:30:41.932738Z",
     "start_time": "2025-05-29T13:30:41.244912Z"
    }
   },
   "cell_type": "code",
   "source": [
    "with open(\"inaturalist_new_train_label.json\", \"w\") as f:\n",
    "    json.dump(final_train_data, f)"
   ],
   "id": "5f583b28317bd0bb",
   "outputs": [],
   "execution_count": 20
  },
  {
   "metadata": {
    "ExecuteTime": {
     "end_time": "2025-05-29T13:30:44.593984Z",
     "start_time": "2025-05-29T13:30:44.502268Z"
    }
   },
   "cell_type": "code",
   "source": [
    "with open(\"inaturalist_new_test_label.json\", \"w\") as f:\n",
    "    json.dump(final_test_data, f)"
   ],
   "id": "9885c5153afedf6e",
   "outputs": [],
   "execution_count": 21
  }
 ],
 "metadata": {
  "kernelspec": {
   "display_name": "Python 3",
   "language": "python",
   "name": "python3"
  },
  "language_info": {
   "codemirror_mode": {
    "name": "ipython",
    "version": 2
   },
   "file_extension": ".py",
   "mimetype": "text/x-python",
   "name": "python",
   "nbconvert_exporter": "python",
   "pygments_lexer": "ipython2",
   "version": "2.7.6"
  }
 },
 "nbformat": 4,
 "nbformat_minor": 5
}
