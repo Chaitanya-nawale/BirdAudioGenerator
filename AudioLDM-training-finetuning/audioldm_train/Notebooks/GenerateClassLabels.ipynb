{
 "cells": [
  {
   "metadata": {
    "ExecuteTime": {
     "end_time": "2025-05-27T12:59:22.601310Z",
     "start_time": "2025-05-27T12:59:22.125776Z"
    }
   },
   "cell_type": "code",
   "source": [
    "import json\n",
    "import pandas as pd\n",
    "import csv"
   ],
   "id": "19c688e493fdb396",
   "outputs": [],
   "execution_count": 1
  },
  {
   "cell_type": "code",
   "id": "initial_id",
   "metadata": {
    "collapsed": true,
    "ExecuteTime": {
     "end_time": "2025-05-27T12:59:25.286035Z",
     "start_time": "2025-05-27T12:59:23.744856Z"
    }
   },
   "source": [
    "with open('train_image_audio.json', 'r') as file:\n",
    "    train_image_audio = json.load(file)"
   ],
   "outputs": [],
   "execution_count": 2
  },
  {
   "metadata": {
    "ExecuteTime": {
     "end_time": "2025-05-27T12:59:26.398690Z",
     "start_time": "2025-05-27T12:59:26.394548Z"
    }
   },
   "cell_type": "code",
   "source": "print(len(train_image_audio['audio']))",
   "id": "70e3a339a37c3284",
   "outputs": [
    {
     "name": "stdout",
     "output_type": "stream",
     "text": [
      "98325\n"
     ]
    }
   ],
   "execution_count": 3
  },
  {
   "metadata": {
    "ExecuteTime": {
     "end_time": "2025-05-27T12:59:28.453497Z",
     "start_time": "2025-05-27T12:59:28.439254Z"
    }
   },
   "cell_type": "code",
   "source": [
    "image_audio_dataframe = pd.DataFrame.from_dict(train_image_audio['image_audio_mappings'])\n",
    "audio_categories_dataframe = pd.DataFrame.from_dict(train_image_audio['audio_categories'])"
   ],
   "id": "a9afcaf8e7d30dad",
   "outputs": [],
   "execution_count": 4
  },
  {
   "metadata": {
    "ExecuteTime": {
     "end_time": "2025-05-27T12:59:32.318962Z",
     "start_time": "2025-05-27T12:59:31.331148Z"
    }
   },
   "cell_type": "code",
   "source": [
    "final_dataframe = pd.DataFrame(columns=['index', 'mid', 'display_name'])\n",
    "curr_id =0\n",
    "for index, row in audio_categories_dataframe.iterrows():\n",
    "    id_ref = image_audio_dataframe[image_audio_dataframe['audio_category_id'].isin([row['id']])]['id'].iloc[0]\n",
    "    final_dataframe.loc[curr_id] = {'index': curr_id, 'mid': id_ref, 'display_name': '\\\"'+ row['common_name']+'\\\"'}\n",
    "    curr_id += 1"
   ],
   "id": "2f5974c56e3ebaa2",
   "outputs": [],
   "execution_count": 5
  },
  {
   "metadata": {
    "ExecuteTime": {
     "end_time": "2025-05-27T12:59:50.515971Z",
     "start_time": "2025-05-27T12:59:50.492083Z"
    }
   },
   "cell_type": "code",
   "source": "final_dataframe.to_csv(\"class_labels_indices.csv\", sep=',', index=False, encoding='utf-8', quoting=csv.QUOTE_NONE)",
   "id": "4583bd8ed827eb22",
   "outputs": [],
   "execution_count": 6
  },
  {
   "metadata": {
    "ExecuteTime": {
     "end_time": "2025-05-27T11:35:04.794017Z",
     "start_time": "2025-05-27T11:35:04.772394Z"
    }
   },
   "cell_type": "code",
   "source": [
    "#final_data = {}\n",
    "#final_data['class_labels'] = final_dataframe.to_dict('records')"
   ],
   "id": "7f765dd70e130098",
   "outputs": [],
   "execution_count": 7
  },
  {
   "metadata": {
    "ExecuteTime": {
     "end_time": "2025-05-27T11:36:26.785726Z",
     "start_time": "2025-05-27T11:36:26.765796Z"
    }
   },
   "cell_type": "code",
   "source": [
    "#with open(\"class_labels_indices.json\", \"w\") as f:\n",
    "#        json.dump(final_data, f)"
   ],
   "id": "39ecd55a8619931e",
   "outputs": [],
   "execution_count": 10
  }
 ],
 "metadata": {
  "kernelspec": {
   "display_name": "Python 3",
   "language": "python",
   "name": "python3"
  },
  "language_info": {
   "codemirror_mode": {
    "name": "ipython",
    "version": 2
   },
   "file_extension": ".py",
   "mimetype": "text/x-python",
   "name": "python",
   "nbconvert_exporter": "python",
   "pygments_lexer": "ipython2",
   "version": "2.7.6"
  }
 },
 "nbformat": 4,
 "nbformat_minor": 5
}
