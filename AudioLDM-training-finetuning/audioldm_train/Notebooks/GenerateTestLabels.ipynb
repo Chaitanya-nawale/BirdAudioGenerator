{
 "cells": [
  {
   "metadata": {
    "ExecuteTime": {
     "end_time": "2025-05-29T11:33:23.874991Z",
     "start_time": "2025-05-29T11:33:23.388125Z"
    }
   },
   "cell_type": "code",
   "source": [
    "import json\n",
    "import pandas as pd"
   ],
   "id": "cb071a530bb31fba",
   "outputs": [],
   "execution_count": 1
  },
  {
   "metadata": {
    "ExecuteTime": {
     "end_time": "2025-05-29T11:33:25.125764Z",
     "start_time": "2025-05-29T11:33:24.962581Z"
    }
   },
   "cell_type": "code",
   "source": [
    "with open('val_image_audio.json', 'r') as file:\n",
    "    val_image_audio = json.load(file)"
   ],
   "id": "cb2b43aa860d01a",
   "outputs": [],
   "execution_count": 2
  },
  {
   "metadata": {
    "ExecuteTime": {
     "end_time": "2025-05-29T11:33:26.136140Z",
     "start_time": "2025-05-29T11:33:25.955272Z"
    }
   },
   "cell_type": "code",
   "source": [
    "with open('test.json', 'r') as file:\n",
    "    test_audio = json.load(file)"
   ],
   "id": "4c43cf83e51b59df",
   "outputs": [],
   "execution_count": 3
  },
  {
   "metadata": {
    "ExecuteTime": {
     "end_time": "2025-05-29T11:33:27.709436Z",
     "start_time": "2025-05-29T11:33:27.573676Z"
    }
   },
   "cell_type": "code",
   "source": [
    "image_audio_dataframe = pd.DataFrame.from_dict(val_image_audio['image_audio_mappings'])\n",
    "audio_categories_dataframe = pd.DataFrame.from_dict(val_image_audio['audio_categories'])\n",
    "audio_dataframe = pd.DataFrame.from_dict(test_audio['audio'])\n",
    "audio_annotations_dataframe = pd.DataFrame.from_dict(test_audio['annotations'])"
   ],
   "id": "cd57d0c200f6ff38",
   "outputs": [],
   "execution_count": 4
  },
  {
   "metadata": {
    "ExecuteTime": {
     "end_time": "2025-05-29T11:36:01.464271Z",
     "start_time": "2025-05-29T11:33:53.012429Z"
    }
   },
   "cell_type": "code",
   "source": [
    "final_dataframe = pd.DataFrame(columns=['wav', 'labels', 'caption'])\n",
    "curr_id =0\n",
    "for index, row in audio_annotations_dataframe.iterrows():\n",
    "    audio_category = audio_categories_dataframe[audio_categories_dataframe['id'].isin([row['category_id']])]\n",
    "    if(audio_category.shape[0] > 0):\n",
    "        label = image_audio_dataframe[image_audio_dataframe['audio_category_id'].isin(audio_category['id'])]['id'].iloc[0]\n",
    "        file_name = audio_dataframe[audio_dataframe['id'].isin([row['audio_id']])]['file_name'].iloc[0]\n",
    "        final_dataframe.loc[curr_id] = {'wav': \"test/\"+ file_name, 'labels': label, 'caption': audio_category['common_name'].iloc[0]}\n",
    "        curr_id += 1"
   ],
   "id": "41365da9d67f6ad7",
   "outputs": [],
   "execution_count": 5
  },
  {
   "metadata": {
    "ExecuteTime": {
     "end_time": "2025-05-28T10:37:16.715900Z",
     "start_time": "2025-05-28T10:37:16.689584Z"
    }
   },
   "cell_type": "code",
   "source": "short_dataframe = final_dataframe.sample(n=10000, replace=False, random_state=42)",
   "id": "1987c213dff90a98",
   "outputs": [],
   "execution_count": 6
  },
  {
   "metadata": {
    "ExecuteTime": {
     "end_time": "2025-05-28T10:37:28.179880Z",
     "start_time": "2025-05-28T10:37:28.170664Z"
    }
   },
   "cell_type": "code",
   "source": "print(len(short_dataframe))",
   "id": "1ca7f3a6b6aea94e",
   "outputs": [
    {
     "name": "stdout",
     "output_type": "stream",
     "text": [
      "10000\n"
     ]
    }
   ],
   "execution_count": 7
  },
  {
   "metadata": {
    "ExecuteTime": {
     "end_time": "2025-05-27T17:41:49.268919Z",
     "start_time": "2025-05-27T17:41:49.194701Z"
    }
   },
   "cell_type": "code",
   "source": [
    "final_data = {}\n",
    "final_data['data'] = final_dataframe.to_dict('records')"
   ],
   "id": "1c364214a56f2ae",
   "outputs": [],
   "execution_count": 6
  },
  {
   "metadata": {
    "ExecuteTime": {
     "end_time": "2025-05-27T17:41:49.497860Z",
     "start_time": "2025-05-27T17:41:49.277925Z"
    }
   },
   "cell_type": "code",
   "source": [
    "with open(\"inaturalist_test_label.json\", \"w\") as f:\n",
    "        json.dump(final_data, f)"
   ],
   "id": "a3e327ae9f09dd12",
   "outputs": [],
   "execution_count": 7
  },
  {
   "metadata": {
    "ExecuteTime": {
     "end_time": "2025-05-28T10:39:12.990714Z",
     "start_time": "2025-05-28T10:39:12.954144Z"
    }
   },
   "cell_type": "code",
   "source": [
    "short_data = {}\n",
    "short_data['data'] = short_dataframe.to_dict('records')"
   ],
   "id": "4b40a990fed91246",
   "outputs": [],
   "execution_count": 8
  },
  {
   "metadata": {
    "ExecuteTime": {
     "end_time": "2025-05-28T10:39:22.059893Z",
     "start_time": "2025-05-28T10:39:22.014329Z"
    }
   },
   "cell_type": "code",
   "source": [
    "with open(\"inaturalist_test_short_label.json\", \"w\") as f:\n",
    "    json.dump(short_data, f)"
   ],
   "id": "1aaa1352bb02d142",
   "outputs": [],
   "execution_count": 10
  },
  {
   "metadata": {},
   "cell_type": "code",
   "outputs": [],
   "execution_count": null,
   "source": "for index, row in final_dataframe.items():",
   "id": "eb392cf1e3f1e5a"
  }
 ],
 "metadata": {
  "kernelspec": {
   "display_name": "Python 3",
   "language": "python",
   "name": "python3"
  },
  "language_info": {
   "codemirror_mode": {
    "name": "ipython",
    "version": 2
   },
   "file_extension": ".py",
   "mimetype": "text/x-python",
   "name": "python",
   "nbconvert_exporter": "python",
   "pygments_lexer": "ipython2",
   "version": "2.7.6"
  }
 },
 "nbformat": 4,
 "nbformat_minor": 5
}
