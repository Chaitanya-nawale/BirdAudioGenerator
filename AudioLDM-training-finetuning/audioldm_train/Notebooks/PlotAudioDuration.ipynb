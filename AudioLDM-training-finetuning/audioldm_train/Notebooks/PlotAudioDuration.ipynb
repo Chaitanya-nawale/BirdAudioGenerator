{
 "cells": [
  {
   "cell_type": "code",
   "id": "initial_id",
   "metadata": {
    "collapsed": true,
    "ExecuteTime": {
     "end_time": "2025-07-07T15:53:39.667767Z",
     "start_time": "2025-07-07T15:53:39.313988Z"
    }
   },
   "source": [
    "import json\n",
    "import pandas as pd"
   ],
   "outputs": [],
   "execution_count": 1
  },
  {
   "metadata": {
    "ExecuteTime": {
     "end_time": "2025-07-07T15:53:40.504122Z",
     "start_time": "2025-07-07T15:53:40.377981Z"
    }
   },
   "cell_type": "code",
   "source": [
    "with open('inaturalist_train_label.json', 'r') as file:\n",
    "    train_labels = json.load(file)\n",
    "with open('inaturalist_test_label.json', 'r') as file:\n",
    "    test_labels = json.load(file)\n",
    "with open('inaturalist_val_label.json', 'r') as file:\n",
    "    val_labels = json.load(file)"
   ],
   "id": "acd7d3fcbecc7573",
   "outputs": [],
   "execution_count": 2
  },
  {
   "metadata": {
    "ExecuteTime": {
     "end_time": "2025-07-07T15:53:42.179935Z",
     "start_time": "2025-07-07T15:53:42.052229Z"
    }
   },
   "cell_type": "code",
   "source": [
    "train_labels_dataframe = pd.DataFrame(train_labels['data'])\n",
    "test_labels_dataframe = pd.DataFrame(test_labels['data'])\n",
    "val_labels_dataframe = pd.DataFrame(val_labels['data'])"
   ],
   "id": "bfd716a94dae4cb",
   "outputs": [],
   "execution_count": 3
  },
  {
   "metadata": {
    "ExecuteTime": {
     "end_time": "2025-07-07T15:53:45.116623Z",
     "start_time": "2025-07-07T15:53:45.076912Z"
    }
   },
   "cell_type": "code",
   "source": [
    "combined_dataframe = pd.concat([train_labels_dataframe, test_labels_dataframe, val_labels_dataframe])\n",
    "combined_dataframe.info()"
   ],
   "id": "e67692c0521df1b6",
   "outputs": [
    {
     "name": "stdout",
     "output_type": "stream",
     "text": [
      "<class 'pandas.core.frame.DataFrame'>\n",
      "Index: 167527 entries, 0 to 33128\n",
      "Data columns (total 3 columns):\n",
      " #   Column   Non-Null Count   Dtype \n",
      "---  ------   --------------   ----- \n",
      " 0   wav      167527 non-null  object\n",
      " 1   labels   167527 non-null  int64 \n",
      " 2   caption  167527 non-null  object\n",
      "dtypes: int64(1), object(2)\n",
      "memory usage: 5.1+ MB\n"
     ]
    }
   ],
   "execution_count": 4
  },
  {
   "metadata": {
    "ExecuteTime": {
     "end_time": "2025-07-07T15:53:59.390075Z",
     "start_time": "2025-07-07T15:53:59.367093Z"
    }
   },
   "cell_type": "code",
   "source": "combined_dataframe",
   "id": "a50d6330d8c6e823",
   "outputs": [
    {
     "data": {
      "text/plain": [
       "                                                     wav  labels  \\\n",
       "0      train/train/03612_Animalia_Chordata_Aves_Passe...     843   \n",
       "1      train/train/04361_Animalia_Chordata_Aves_Passe...     961   \n",
       "2      train/train/02061_Animalia_Chordata_Aves_Cucul...     347   \n",
       "3      train/train/01399_Animalia_Chordata_Aves_Accip...       2   \n",
       "4      train/train/02978_Animalia_Chordata_Aves_Passe...     592   \n",
       "...                                                  ...     ...   \n",
       "33124  val/val/01818_Animalia_Chordata_Aves_Charadrii...     228   \n",
       "33125  val/val/01818_Animalia_Chordata_Aves_Charadrii...     228   \n",
       "33126  val/val/01818_Animalia_Chordata_Aves_Charadrii...     228   \n",
       "33127  val/val/01818_Animalia_Chordata_Aves_Charadrii...     228   \n",
       "33128  val/val/01818_Animalia_Chordata_Aves_Charadrii...     228   \n",
       "\n",
       "                      caption  \n",
       "0      White-throated Sparrow  \n",
       "1                  House Wren  \n",
       "2                  Asian Koel  \n",
       "3               Cooper's Hawk  \n",
       "4                Tree Swallow  \n",
       "...                       ...  \n",
       "33124      White-headed Stilt  \n",
       "33125      White-headed Stilt  \n",
       "33126      White-headed Stilt  \n",
       "33127      White-headed Stilt  \n",
       "33128      White-headed Stilt  \n",
       "\n",
       "[167527 rows x 3 columns]"
      ],
      "text/html": [
       "<div>\n",
       "<style scoped>\n",
       "    .dataframe tbody tr th:only-of-type {\n",
       "        vertical-align: middle;\n",
       "    }\n",
       "\n",
       "    .dataframe tbody tr th {\n",
       "        vertical-align: top;\n",
       "    }\n",
       "\n",
       "    .dataframe thead th {\n",
       "        text-align: right;\n",
       "    }\n",
       "</style>\n",
       "<table border=\"1\" class=\"dataframe\">\n",
       "  <thead>\n",
       "    <tr style=\"text-align: right;\">\n",
       "      <th></th>\n",
       "      <th>wav</th>\n",
       "      <th>labels</th>\n",
       "      <th>caption</th>\n",
       "    </tr>\n",
       "  </thead>\n",
       "  <tbody>\n",
       "    <tr>\n",
       "      <th>0</th>\n",
       "      <td>train/train/03612_Animalia_Chordata_Aves_Passe...</td>\n",
       "      <td>843</td>\n",
       "      <td>White-throated Sparrow</td>\n",
       "    </tr>\n",
       "    <tr>\n",
       "      <th>1</th>\n",
       "      <td>train/train/04361_Animalia_Chordata_Aves_Passe...</td>\n",
       "      <td>961</td>\n",
       "      <td>House Wren</td>\n",
       "    </tr>\n",
       "    <tr>\n",
       "      <th>2</th>\n",
       "      <td>train/train/02061_Animalia_Chordata_Aves_Cucul...</td>\n",
       "      <td>347</td>\n",
       "      <td>Asian Koel</td>\n",
       "    </tr>\n",
       "    <tr>\n",
       "      <th>3</th>\n",
       "      <td>train/train/01399_Animalia_Chordata_Aves_Accip...</td>\n",
       "      <td>2</td>\n",
       "      <td>Cooper's Hawk</td>\n",
       "    </tr>\n",
       "    <tr>\n",
       "      <th>4</th>\n",
       "      <td>train/train/02978_Animalia_Chordata_Aves_Passe...</td>\n",
       "      <td>592</td>\n",
       "      <td>Tree Swallow</td>\n",
       "    </tr>\n",
       "    <tr>\n",
       "      <th>...</th>\n",
       "      <td>...</td>\n",
       "      <td>...</td>\n",
       "      <td>...</td>\n",
       "    </tr>\n",
       "    <tr>\n",
       "      <th>33124</th>\n",
       "      <td>val/val/01818_Animalia_Chordata_Aves_Charadrii...</td>\n",
       "      <td>228</td>\n",
       "      <td>White-headed Stilt</td>\n",
       "    </tr>\n",
       "    <tr>\n",
       "      <th>33125</th>\n",
       "      <td>val/val/01818_Animalia_Chordata_Aves_Charadrii...</td>\n",
       "      <td>228</td>\n",
       "      <td>White-headed Stilt</td>\n",
       "    </tr>\n",
       "    <tr>\n",
       "      <th>33126</th>\n",
       "      <td>val/val/01818_Animalia_Chordata_Aves_Charadrii...</td>\n",
       "      <td>228</td>\n",
       "      <td>White-headed Stilt</td>\n",
       "    </tr>\n",
       "    <tr>\n",
       "      <th>33127</th>\n",
       "      <td>val/val/01818_Animalia_Chordata_Aves_Charadrii...</td>\n",
       "      <td>228</td>\n",
       "      <td>White-headed Stilt</td>\n",
       "    </tr>\n",
       "    <tr>\n",
       "      <th>33128</th>\n",
       "      <td>val/val/01818_Animalia_Chordata_Aves_Charadrii...</td>\n",
       "      <td>228</td>\n",
       "      <td>White-headed Stilt</td>\n",
       "    </tr>\n",
       "  </tbody>\n",
       "</table>\n",
       "<p>167527 rows × 3 columns</p>\n",
       "</div>"
      ]
     },
     "execution_count": 5,
     "metadata": {},
     "output_type": "execute_result"
    }
   ],
   "execution_count": 5
  },
  {
   "metadata": {},
   "cell_type": "code",
   "outputs": [],
   "execution_count": null,
   "source": "",
   "id": "bd8941c56cfb533a"
  }
 ],
 "metadata": {
  "kernelspec": {
   "display_name": "Python 3",
   "language": "python",
   "name": "python3"
  },
  "language_info": {
   "codemirror_mode": {
    "name": "ipython",
    "version": 2
   },
   "file_extension": ".py",
   "mimetype": "text/x-python",
   "name": "python",
   "nbconvert_exporter": "python",
   "pygments_lexer": "ipython2",
   "version": "2.7.6"
  }
 },
 "nbformat": 4,
 "nbformat_minor": 5
}
