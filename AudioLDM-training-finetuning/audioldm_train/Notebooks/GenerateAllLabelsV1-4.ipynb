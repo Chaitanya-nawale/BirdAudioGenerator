{
 "cells": [
  {
   "metadata": {
    "ExecuteTime": {
     "end_time": "2025-07-02T13:26:44.633485Z",
     "start_time": "2025-07-02T13:26:44.160069Z"
    }
   },
   "cell_type": "code",
   "source": [
    "import json\n",
    "import pandas as pd"
   ],
   "id": "cb071a530bb31fba",
   "outputs": [],
   "execution_count": 1
  },
  {
   "metadata": {
    "ExecuteTime": {
     "end_time": "2025-07-02T13:26:45.525699Z",
     "start_time": "2025-07-02T13:26:45.417601Z"
    }
   },
   "cell_type": "code",
   "source": [
    "with open('inaturalist_train_label.json', 'r') as file:\n",
    "    train_labels = json.load(file)"
   ],
   "id": "cb2b43aa860d01a",
   "outputs": [],
   "execution_count": 2
  },
  {
   "metadata": {
    "ExecuteTime": {
     "end_time": "2025-07-02T13:26:46.296830Z",
     "start_time": "2025-07-02T13:26:46.257459Z"
    }
   },
   "cell_type": "code",
   "source": [
    "with open('inaturalist_test_label.json', 'r') as file:\n",
    "    test_labels = json.load(file)"
   ],
   "id": "aff0f70e503c47d4",
   "outputs": [],
   "execution_count": 3
  },
  {
   "metadata": {
    "ExecuteTime": {
     "end_time": "2025-07-02T13:26:47.692950Z",
     "start_time": "2025-07-02T13:26:47.655002Z"
    }
   },
   "cell_type": "code",
   "source": [
    "with open('inaturalist_val_label.json', 'r') as file:\n",
    "    val_labels = json.load(file)"
   ],
   "id": "e52514d7894ddeb8",
   "outputs": [],
   "execution_count": 4
  },
  {
   "metadata": {
    "ExecuteTime": {
     "end_time": "2025-07-02T13:26:49.502783Z",
     "start_time": "2025-07-02T13:26:49.378631Z"
    }
   },
   "cell_type": "code",
   "source": [
    "train_labels_dataframe = pd.DataFrame(train_labels['data'])\n",
    "test_labels_dataframe = pd.DataFrame(test_labels['data'])\n",
    "val_labels_dataframe = pd.DataFrame(val_labels['data'])"
   ],
   "id": "411aad6a9a0f04e2",
   "outputs": [],
   "execution_count": 5
  },
  {
   "metadata": {
    "ExecuteTime": {
     "end_time": "2025-07-02T13:26:50.553555Z",
     "start_time": "2025-07-02T13:26:50.543923Z"
    }
   },
   "cell_type": "code",
   "source": "combined_dataframe = pd.concat([train_labels_dataframe, test_labels_dataframe, val_labels_dataframe])",
   "id": "a5764bd0376517f4",
   "outputs": [],
   "execution_count": 6
  },
  {
   "metadata": {
    "ExecuteTime": {
     "end_time": "2025-07-02T13:13:51.027515Z",
     "start_time": "2025-07-02T13:13:50.996833Z"
    }
   },
   "cell_type": "code",
   "source": "combined_dataframe.info()",
   "id": "83145d67f2027a77",
   "outputs": [
    {
     "name": "stdout",
     "output_type": "stream",
     "text": [
      "<class 'pandas.core.frame.DataFrame'>\n",
      "Index: 167527 entries, 0 to 33128\n",
      "Data columns (total 3 columns):\n",
      " #   Column   Non-Null Count   Dtype \n",
      "---  ------   --------------   ----- \n",
      " 0   wav      167527 non-null  object\n",
      " 1   labels   167527 non-null  int64 \n",
      " 2   caption  167527 non-null  object\n",
      "dtypes: int64(1), object(2)\n",
      "memory usage: 5.1+ MB\n"
     ]
    }
   ],
   "execution_count": 7
  },
  {
   "metadata": {
    "ExecuteTime": {
     "end_time": "2025-07-02T13:26:58.464127Z",
     "start_time": "2025-07-02T13:26:58.452143Z"
    }
   },
   "cell_type": "code",
   "source": "combined_dataframe['labels'].value_counts()",
   "id": "1d156f0789c46164",
   "outputs": [
    {
     "data": {
      "text/plain": [
       "labels\n",
       "986    1200\n",
       "912    1200\n",
       "960    1200\n",
       "983    1200\n",
       "554    1200\n",
       "       ... \n",
       "96        1\n",
       "396       1\n",
       "190       1\n",
       "58        1\n",
       "69        1\n",
       "Name: count, Length: 1244, dtype: int64"
      ]
     },
     "execution_count": 7,
     "metadata": {},
     "output_type": "execute_result"
    }
   ],
   "execution_count": 7
  },
  {
   "metadata": {
    "ExecuteTime": {
     "end_time": "2025-07-02T13:27:01.148660Z",
     "start_time": "2025-07-02T13:27:01.075160Z"
    }
   },
   "cell_type": "code",
   "source": "combined_dataframe = combined_dataframe.groupby('labels').filter(lambda g: len(g) >= 50)",
   "id": "1fbfdad3f3d812b2",
   "outputs": [],
   "execution_count": 8
  },
  {
   "metadata": {
    "ExecuteTime": {
     "end_time": "2025-07-02T13:27:03.478167Z",
     "start_time": "2025-07-02T13:27:03.469938Z"
    }
   },
   "cell_type": "code",
   "source": "combined_dataframe['labels'].value_counts()",
   "id": "2e9589d5352ff167",
   "outputs": [
    {
     "data": {
      "text/plain": [
       "labels\n",
       "1042    1200\n",
       "498     1200\n",
       "849     1200\n",
       "986     1200\n",
       "824     1200\n",
       "        ... \n",
       "522       50\n",
       "109       50\n",
       "838       50\n",
       "953       50\n",
       "623       50\n",
       "Name: count, Length: 544, dtype: int64"
      ]
     },
     "execution_count": 9,
     "metadata": {},
     "output_type": "execute_result"
    }
   ],
   "execution_count": 9
  },
  {
   "metadata": {
    "ExecuteTime": {
     "end_time": "2025-07-02T13:27:09.306563Z",
     "start_time": "2025-07-02T13:27:09.301782Z"
    }
   },
   "cell_type": "code",
   "source": "print(len(combined_dataframe))",
   "id": "9c5509d1cc11105b",
   "outputs": [
    {
     "name": "stdout",
     "output_type": "stream",
     "text": [
      "159165\n"
     ]
    }
   ],
   "execution_count": 10
  },
  {
   "metadata": {
    "ExecuteTime": {
     "end_time": "2025-07-02T13:27:11.846897Z",
     "start_time": "2025-07-02T13:27:11.844035Z"
    }
   },
   "cell_type": "code",
   "source": "combined_dataframe.reset_index(drop=True, inplace=True)",
   "id": "72800975acdb4a59",
   "outputs": [],
   "execution_count": 11
  },
  {
   "metadata": {
    "ExecuteTime": {
     "end_time": "2025-07-02T13:27:14.323742Z",
     "start_time": "2025-07-02T13:27:14.315851Z"
    }
   },
   "cell_type": "code",
   "source": "combined_dataframe",
   "id": "31e7904d765535f1",
   "outputs": [
    {
     "data": {
      "text/plain": [
       "                                                      wav  labels  \\\n",
       "0       train/train/03612_Animalia_Chordata_Aves_Passe...     843   \n",
       "1       train/train/04361_Animalia_Chordata_Aves_Passe...     961   \n",
       "2       train/train/02061_Animalia_Chordata_Aves_Cucul...     347   \n",
       "3       train/train/01399_Animalia_Chordata_Aves_Accip...       2   \n",
       "4       train/train/02978_Animalia_Chordata_Aves_Passe...     592   \n",
       "...                                                   ...     ...   \n",
       "159160  val/val/03608_Animalia_Chordata_Aves_Passerifo...     839   \n",
       "159161  val/val/03608_Animalia_Chordata_Aves_Passerifo...     839   \n",
       "159162  val/val/03608_Animalia_Chordata_Aves_Passerifo...     839   \n",
       "159163  val/val/03608_Animalia_Chordata_Aves_Passerifo...     839   \n",
       "159164  val/val/03608_Animalia_Chordata_Aves_Passerifo...     839   \n",
       "\n",
       "                       caption  \n",
       "0       White-throated Sparrow  \n",
       "1                   House Wren  \n",
       "2                   Asian Koel  \n",
       "3                Cooper's Hawk  \n",
       "4                 Tree Swallow  \n",
       "...                        ...  \n",
       "159160    Clay-colored Sparrow  \n",
       "159161    Clay-colored Sparrow  \n",
       "159162    Clay-colored Sparrow  \n",
       "159163    Clay-colored Sparrow  \n",
       "159164    Clay-colored Sparrow  \n",
       "\n",
       "[159165 rows x 3 columns]"
      ],
      "text/html": [
       "<div>\n",
       "<style scoped>\n",
       "    .dataframe tbody tr th:only-of-type {\n",
       "        vertical-align: middle;\n",
       "    }\n",
       "\n",
       "    .dataframe tbody tr th {\n",
       "        vertical-align: top;\n",
       "    }\n",
       "\n",
       "    .dataframe thead th {\n",
       "        text-align: right;\n",
       "    }\n",
       "</style>\n",
       "<table border=\"1\" class=\"dataframe\">\n",
       "  <thead>\n",
       "    <tr style=\"text-align: right;\">\n",
       "      <th></th>\n",
       "      <th>wav</th>\n",
       "      <th>labels</th>\n",
       "      <th>caption</th>\n",
       "    </tr>\n",
       "  </thead>\n",
       "  <tbody>\n",
       "    <tr>\n",
       "      <th>0</th>\n",
       "      <td>train/train/03612_Animalia_Chordata_Aves_Passe...</td>\n",
       "      <td>843</td>\n",
       "      <td>White-throated Sparrow</td>\n",
       "    </tr>\n",
       "    <tr>\n",
       "      <th>1</th>\n",
       "      <td>train/train/04361_Animalia_Chordata_Aves_Passe...</td>\n",
       "      <td>961</td>\n",
       "      <td>House Wren</td>\n",
       "    </tr>\n",
       "    <tr>\n",
       "      <th>2</th>\n",
       "      <td>train/train/02061_Animalia_Chordata_Aves_Cucul...</td>\n",
       "      <td>347</td>\n",
       "      <td>Asian Koel</td>\n",
       "    </tr>\n",
       "    <tr>\n",
       "      <th>3</th>\n",
       "      <td>train/train/01399_Animalia_Chordata_Aves_Accip...</td>\n",
       "      <td>2</td>\n",
       "      <td>Cooper's Hawk</td>\n",
       "    </tr>\n",
       "    <tr>\n",
       "      <th>4</th>\n",
       "      <td>train/train/02978_Animalia_Chordata_Aves_Passe...</td>\n",
       "      <td>592</td>\n",
       "      <td>Tree Swallow</td>\n",
       "    </tr>\n",
       "    <tr>\n",
       "      <th>...</th>\n",
       "      <td>...</td>\n",
       "      <td>...</td>\n",
       "      <td>...</td>\n",
       "    </tr>\n",
       "    <tr>\n",
       "      <th>159160</th>\n",
       "      <td>val/val/03608_Animalia_Chordata_Aves_Passerifo...</td>\n",
       "      <td>839</td>\n",
       "      <td>Clay-colored Sparrow</td>\n",
       "    </tr>\n",
       "    <tr>\n",
       "      <th>159161</th>\n",
       "      <td>val/val/03608_Animalia_Chordata_Aves_Passerifo...</td>\n",
       "      <td>839</td>\n",
       "      <td>Clay-colored Sparrow</td>\n",
       "    </tr>\n",
       "    <tr>\n",
       "      <th>159162</th>\n",
       "      <td>val/val/03608_Animalia_Chordata_Aves_Passerifo...</td>\n",
       "      <td>839</td>\n",
       "      <td>Clay-colored Sparrow</td>\n",
       "    </tr>\n",
       "    <tr>\n",
       "      <th>159163</th>\n",
       "      <td>val/val/03608_Animalia_Chordata_Aves_Passerifo...</td>\n",
       "      <td>839</td>\n",
       "      <td>Clay-colored Sparrow</td>\n",
       "    </tr>\n",
       "    <tr>\n",
       "      <th>159164</th>\n",
       "      <td>val/val/03608_Animalia_Chordata_Aves_Passerifo...</td>\n",
       "      <td>839</td>\n",
       "      <td>Clay-colored Sparrow</td>\n",
       "    </tr>\n",
       "  </tbody>\n",
       "</table>\n",
       "<p>159165 rows × 3 columns</p>\n",
       "</div>"
      ]
     },
     "execution_count": 12,
     "metadata": {},
     "output_type": "execute_result"
    }
   ],
   "execution_count": 12
  },
  {
   "metadata": {
    "ExecuteTime": {
     "end_time": "2025-06-30T14:00:43.045849Z",
     "start_time": "2025-06-30T14:00:39.073697Z"
    }
   },
   "cell_type": "code",
   "source": "from sklearn.model_selection import train_test_split",
   "id": "3080e10a8a05f4d7",
   "outputs": [],
   "execution_count": 12
  },
  {
   "metadata": {
    "ExecuteTime": {
     "end_time": "2025-07-02T13:27:35.595293Z",
     "start_time": "2025-07-02T13:27:35.030339Z"
    }
   },
   "cell_type": "code",
   "source": [
    "def stratified_split(df, label_col='labels'):\n",
    "    # Group by label and pick 10 samples per class for the test set\n",
    "    test_df = df.groupby(label_col, group_keys=False).apply(lambda x: x.sample(n=5, random_state=42))\n",
    "\n",
    "    # Remove test samples from the full dataset to form the training set\n",
    "    train_df = df.drop(index=test_df.index)\n",
    "\n",
    "    val_df = train_df.groupby(label_col, group_keys=False).apply(lambda x: x.sample(n=5, random_state=42))\n",
    "\n",
    "    return train_df, val_df, test_df\n",
    "\n",
    "# Usage\n",
    "train_df, val_df, test_df = stratified_split(combined_dataframe, label_col='labels')\n"
   ],
   "id": "a4ecf5186eaf84c6",
   "outputs": [
    {
     "name": "stderr",
     "output_type": "stream",
     "text": [
      "/var/folders/j3/n04hhwvx3v960l20mpqqltsh0000gn/T/ipykernel_10458/4055200822.py:3: DeprecationWarning: DataFrameGroupBy.apply operated on the grouping columns. This behavior is deprecated, and in a future version of pandas the grouping columns will be excluded from the operation. Either pass `include_groups=False` to exclude the groupings or explicitly select the grouping columns after groupby to silence this warning.\n",
      "  test_df = df.groupby(label_col, group_keys=False).apply(lambda x: x.sample(n=5, random_state=42))\n",
      "/var/folders/j3/n04hhwvx3v960l20mpqqltsh0000gn/T/ipykernel_10458/4055200822.py:8: DeprecationWarning: DataFrameGroupBy.apply operated on the grouping columns. This behavior is deprecated, and in a future version of pandas the grouping columns will be excluded from the operation. Either pass `include_groups=False` to exclude the groupings or explicitly select the grouping columns after groupby to silence this warning.\n",
      "  val_df = train_df.groupby(label_col, group_keys=False).apply(lambda x: x.sample(n=5, random_state=42))\n"
     ]
    }
   ],
   "execution_count": 13
  },
  {
   "metadata": {
    "ExecuteTime": {
     "end_time": "2025-07-02T13:27:38.933495Z",
     "start_time": "2025-07-02T13:27:38.672817Z"
    }
   },
   "cell_type": "code",
   "source": [
    "final_train_data = {}\n",
    "final_val_data = {}\n",
    "final_test_data = {}\n",
    "final_train_data['data'] = train_df.to_dict('records')\n",
    "final_val_data['data'] = val_df.to_dict('records')\n",
    "final_test_data['data'] = test_df.to_dict('records')"
   ],
   "id": "1c364214a56f2ae",
   "outputs": [],
   "execution_count": 14
  },
  {
   "metadata": {
    "ExecuteTime": {
     "end_time": "2025-07-02T13:27:41.315866Z",
     "start_time": "2025-07-02T13:27:41.312613Z"
    }
   },
   "cell_type": "code",
   "source": [
    "print(\"train size:\", len(train_df))\n",
    "print(\"val size:\", len(val_df))\n",
    "print(\"test size:\", len(test_df))"
   ],
   "id": "dec5bfc3dd67e9c9",
   "outputs": [
    {
     "name": "stdout",
     "output_type": "stream",
     "text": [
      "train size: 156445\n",
      "val size: 2720\n",
      "test size: 2720\n"
     ]
    }
   ],
   "execution_count": 15
  },
  {
   "metadata": {
    "ExecuteTime": {
     "end_time": "2025-07-02T13:27:46.460551Z",
     "start_time": "2025-07-02T13:27:46.434275Z"
    }
   },
   "cell_type": "code",
   "source": [
    "with open(\"inaturalist_val_label_v1-4.json\", \"w\") as f:\n",
    "    json.dump(final_val_data, f)"
   ],
   "id": "a3e327ae9f09dd12",
   "outputs": [],
   "execution_count": 16
  },
  {
   "metadata": {
    "ExecuteTime": {
     "end_time": "2025-07-04T22:25:43.390355Z",
     "start_time": "2025-07-04T22:25:43.381977Z"
    }
   },
   "cell_type": "code",
   "source": [
    " with open(\"inaturalist_train_label_v1-4.json\", \"w\") as f:\n",
    "    json.dump(final_train_data, f)"
   ],
   "id": "5f583b28317bd0bb",
   "outputs": [
    {
     "ename": "SyntaxError",
     "evalue": "invalid syntax (1523069714.py, line 1)",
     "output_type": "error",
     "traceback": [
      "\u001B[0;36m  Cell \u001B[0;32mIn[1], line 1\u001B[0;36m\u001B[0m\n\u001B[0;31m    ith open(\"inaturalist_train_label_v1-4.json\", \"w\") as f:\u001B[0m\n\u001B[0m        ^\u001B[0m\n\u001B[0;31mSyntaxError\u001B[0m\u001B[0;31m:\u001B[0m invalid syntax\n"
     ]
    }
   ],
   "execution_count": 1
  },
  {
   "metadata": {
    "ExecuteTime": {
     "end_time": "2025-07-02T13:27:48.996289Z",
     "start_time": "2025-07-02T13:27:48.975031Z"
    }
   },
   "cell_type": "code",
   "source": [
    "with open(\"inaturalist_test_label_v1-4.json\", \"w\") as f:\n",
    "    json.dump(final_test_data, f)"
   ],
   "id": "9885c5153afedf6e",
   "outputs": [],
   "execution_count": 18
  },
  {
   "metadata": {
    "ExecuteTime": {
     "end_time": "2025-07-02T13:29:51.523943Z",
     "start_time": "2025-07-02T13:29:50.644143Z"
    }
   },
   "cell_type": "code",
   "source": [
    "df_labels_per_caption = combined_dataframe[['caption', 'labels']].drop_duplicates().reset_index(drop=True)\n",
    "\n",
    "import matplotlib.pyplot as plt\n",
    "\n",
    "plt.figure(figsize=(10, 6))\n",
    "plt.hist(df_labels_per_caption['labels'], bins=30, edgecolor='black')\n",
    "plt.xlabel('Number of Labels per Caption')\n",
    "plt.ylabel('Count of Captions')\n",
    "plt.title('Distribution of Label Counts per Caption')\n",
    "plt.show()"
   ],
   "id": "1e84d7674834b8d1",
   "outputs": [
    {
     "data": {
      "text/plain": [
       "<Figure size 1000x600 with 1 Axes>"
      ],
      "image/png": "[encoded data removed]"
     },
     "metadata": {},
     "output_type": "display_data"
    }
   ],
   "execution_count": 19
  }
 ],
 "metadata": {
  "kernelspec": {
   "display_name": "Python 3",
   "language": "python",
   "name": "python3"
  },
  "language_info": {
   "codemirror_mode": {
    "name": "ipython",
    "version": 2
   },
   "file_extension": ".py",
   "mimetype": "text/x-python",
   "name": "python",
   "nbconvert_exporter": "python",
   "pygments_lexer": "ipython2",
   "version": "2.7.6"
  }
 },
 "nbformat": 4,
 "nbformat_minor": 5
}
