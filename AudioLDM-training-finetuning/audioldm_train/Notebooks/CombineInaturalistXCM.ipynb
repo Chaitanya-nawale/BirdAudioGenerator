{
 "cells": [
  {
   "cell_type": "code",
   "id": "initial_id",
   "metadata": {
    "collapsed": true,
    "ExecuteTime": {
     "end_time": "2025-07-06T14:05:42.860485Z",
     "start_time": "2025-07-06T14:05:42.466276Z"
    }
   },
   "source": [
    "import json\n",
    "import pandas as pd"
   ],
   "outputs": [],
   "execution_count": 1
  },
  {
   "metadata": {
    "ExecuteTime": {
     "end_time": "2025-07-06T14:06:02.569618Z",
     "start_time": "2025-07-06T14:05:54.868039Z"
    }
   },
   "cell_type": "code",
   "source": [
    "with open('train.json', 'r') as file:\n",
    "    image_data = json.load(file)"
   ],
   "id": "c7e81e772b553283",
   "outputs": [],
   "execution_count": 2
  },
  {
   "metadata": {
    "ExecuteTime": {
     "end_time": "2025-07-06T14:06:13.122976Z",
     "start_time": "2025-07-06T14:06:11.216766Z"
    }
   },
   "cell_type": "code",
   "source": [
    "image_dataframe = pd.DataFrame.from_dict(image_data['categories'])\n",
    "image_supercategory_filtered = image_dataframe[image_dataframe[\"supercategory\"].isin([\"Birds\"])]\n",
    "print(len(image_supercategory_filtered))\n",
    "image_annotations = pd.DataFrame.from_dict(image_data['annotations'])\n",
    "image_annotations_filtered = image_annotations[image_annotations[\"category_id\"].isin(image_supercategory_filtered['id'])]\n",
    "print(len(image_annotations_filtered))"
   ],
   "id": "a1f2ae1508b62629",
   "outputs": [
    {
     "name": "stdout",
     "output_type": "stream",
     "text": [
      "1486\n",
      "414847\n"
     ]
    }
   ],
   "execution_count": 3
  },
  {
   "metadata": {
    "ExecuteTime": {
     "end_time": "2025-07-06T14:06:27.992017Z",
     "start_time": "2025-07-06T14:06:27.986348Z"
    }
   },
   "cell_type": "code",
   "source": [
    "image_data.pop('info')\n",
    "image_data.pop('licenses')\n",
    "print(image_data.keys())"
   ],
   "id": "47fe0f87ad1abfdb",
   "outputs": [
    {
     "name": "stdout",
     "output_type": "stream",
     "text": [
      "dict_keys(['images', 'categories', 'annotations'])\n"
     ]
    }
   ],
   "execution_count": 4
  },
  {
   "metadata": {
    "ExecuteTime": {
     "end_time": "2025-07-06T14:10:50.669319Z",
     "start_time": "2025-07-06T14:10:50.627884Z"
    }
   },
   "cell_type": "code",
   "source": [
    "import csv\n",
    "with open('map.csv', newline='') as csvfile:\n",
    "    audio_data = csv.reader(csvfile, delimiter=',', quotechar='|')\n",
    "    audio_data = pd.read_csv(csvfile)"
   ],
   "id": "35d5d84de42bd71a",
   "outputs": [],
   "execution_count": 6
  },
  {
   "metadata": {
    "ExecuteTime": {
     "end_time": "2025-07-06T14:11:25.561020Z",
     "start_time": "2025-07-06T14:11:25.545163Z"
    }
   },
   "cell_type": "code",
   "source": "audio_data.reset_index(inplace=True)",
   "id": "9937a09940d4249",
   "outputs": [],
   "execution_count": 7
  },
  {
   "metadata": {
    "ExecuteTime": {
     "end_time": "2025-07-06T14:11:45.054246Z",
     "start_time": "2025-07-06T14:11:45.027183Z"
    }
   },
   "cell_type": "code",
   "source": "(audio_data.info())",
   "id": "c94596fb6656738",
   "outputs": [
    {
     "name": "stdout",
     "output_type": "stream",
     "text": [
      "<class 'pandas.core.frame.DataFrame'>\n",
      "RangeIndex: 355 entries, 0 to 354\n",
      "Data columns (total 4 columns):\n",
      " #   Column        Non-Null Count  Dtype \n",
      "---  ------        --------------  ----- \n",
      " 0   level_0       355 non-null    int64 \n",
      " 1   index         355 non-null    int64 \n",
      " 2   mid           355 non-null    int64 \n",
      " 3   display_name  355 non-null    object\n",
      "dtypes: int64(3), object(1)\n",
      "memory usage: 11.2+ KB\n"
     ]
    }
   ],
   "execution_count": 9
  },
  {
   "metadata": {
    "ExecuteTime": {
     "end_time": "2025-07-06T14:12:08.522751Z",
     "start_time": "2025-07-06T14:12:08.507753Z"
    }
   },
   "cell_type": "code",
   "source": "audio_data.tail()",
   "id": "3b21932b10f26c34",
   "outputs": [
    {
     "data": {
      "text/plain": [
       "     level_0  index  mid           display_name\n",
       "350      350    351  351           Common_Raven\n",
       "351      351    352  352          Cedar_Waxwing\n",
       "352      352    353  353    European_Greenfinch\n",
       "353      353    354  354  Yellow_fronted_Canary\n",
       "354      354    355  355        Eurasian_Linnet"
      ],
      "text/html": [
       "<div>\n",
       "<style scoped>\n",
       "    .dataframe tbody tr th:only-of-type {\n",
       "        vertical-align: middle;\n",
       "    }\n",
       "\n",
       "    .dataframe tbody tr th {\n",
       "        vertical-align: top;\n",
       "    }\n",
       "\n",
       "    .dataframe thead th {\n",
       "        text-align: right;\n",
       "    }\n",
       "</style>\n",
       "<table border=\"1\" class=\"dataframe\">\n",
       "  <thead>\n",
       "    <tr style=\"text-align: right;\">\n",
       "      <th></th>\n",
       "      <th>level_0</th>\n",
       "      <th>index</th>\n",
       "      <th>mid</th>\n",
       "      <th>display_name</th>\n",
       "    </tr>\n",
       "  </thead>\n",
       "  <tbody>\n",
       "    <tr>\n",
       "      <th>350</th>\n",
       "      <td>350</td>\n",
       "      <td>351</td>\n",
       "      <td>351</td>\n",
       "      <td>Common_Raven</td>\n",
       "    </tr>\n",
       "    <tr>\n",
       "      <th>351</th>\n",
       "      <td>351</td>\n",
       "      <td>352</td>\n",
       "      <td>352</td>\n",
       "      <td>Cedar_Waxwing</td>\n",
       "    </tr>\n",
       "    <tr>\n",
       "      <th>352</th>\n",
       "      <td>352</td>\n",
       "      <td>353</td>\n",
       "      <td>353</td>\n",
       "      <td>European_Greenfinch</td>\n",
       "    </tr>\n",
       "    <tr>\n",
       "      <th>353</th>\n",
       "      <td>353</td>\n",
       "      <td>354</td>\n",
       "      <td>354</td>\n",
       "      <td>Yellow_fronted_Canary</td>\n",
       "    </tr>\n",
       "    <tr>\n",
       "      <th>354</th>\n",
       "      <td>354</td>\n",
       "      <td>355</td>\n",
       "      <td>355</td>\n",
       "      <td>Eurasian_Linnet</td>\n",
       "    </tr>\n",
       "  </tbody>\n",
       "</table>\n",
       "</div>"
      ]
     },
     "execution_count": 10,
     "metadata": {},
     "output_type": "execute_result"
    }
   ],
   "execution_count": 10
  },
  {
   "metadata": {
    "ExecuteTime": {
     "end_time": "2025-07-06T14:41:25.981951Z",
     "start_time": "2025-07-06T14:41:25.958745Z"
    }
   },
   "cell_type": "code",
   "source": "image_supercategory_filtered.tail()",
   "id": "d3445d9d6b28c070",
   "outputs": [
    {
     "data": {
      "text/plain": [
       "        id                   name            common_name supercategory  \\\n",
       "4592  4592        Trogon collaris        Collared Trogon         Birds   \n",
       "4593  4593         Trogon elegans         Elegant Trogon         Birds   \n",
       "4594  4594         Trogon massena    Slaty-tailed Trogon         Birds   \n",
       "4595  4595  Trogon melanocephalus    Black-headed Trogon         Birds   \n",
       "4596  4596           Trogon rufus  Black-throated Trogon         Birds   \n",
       "\n",
       "       kingdom    phylum class          order      family   genus  \\\n",
       "4592  Animalia  Chordata  Aves  Trogoniformes  Trogonidae  Trogon   \n",
       "4593  Animalia  Chordata  Aves  Trogoniformes  Trogonidae  Trogon   \n",
       "4594  Animalia  Chordata  Aves  Trogoniformes  Trogonidae  Trogon   \n",
       "4595  Animalia  Chordata  Aves  Trogoniformes  Trogonidae  Trogon   \n",
       "4596  Animalia  Chordata  Aves  Trogoniformes  Trogonidae  Trogon   \n",
       "\n",
       "     specific_epithet                                     image_dir_name  \n",
       "4592         collaris  04592_Animalia_Chordata_Aves_Trogoniformes_Tro...  \n",
       "4593          elegans  04593_Animalia_Chordata_Aves_Trogoniformes_Tro...  \n",
       "4594          massena  04594_Animalia_Chordata_Aves_Trogoniformes_Tro...  \n",
       "4595   melanocephalus  04595_Animalia_Chordata_Aves_Trogoniformes_Tro...  \n",
       "4596            rufus  04596_Animalia_Chordata_Aves_Trogoniformes_Tro...  "
      ],
      "text/html": [
       "<div>\n",
       "<style scoped>\n",
       "    .dataframe tbody tr th:only-of-type {\n",
       "        vertical-align: middle;\n",
       "    }\n",
       "\n",
       "    .dataframe tbody tr th {\n",
       "        vertical-align: top;\n",
       "    }\n",
       "\n",
       "    .dataframe thead th {\n",
       "        text-align: right;\n",
       "    }\n",
       "</style>\n",
       "<table border=\"1\" class=\"dataframe\">\n",
       "  <thead>\n",
       "    <tr style=\"text-align: right;\">\n",
       "      <th></th>\n",
       "      <th>id</th>\n",
       "      <th>name</th>\n",
       "      <th>common_name</th>\n",
       "      <th>supercategory</th>\n",
       "      <th>kingdom</th>\n",
       "      <th>phylum</th>\n",
       "      <th>class</th>\n",
       "      <th>order</th>\n",
       "      <th>family</th>\n",
       "      <th>genus</th>\n",
       "      <th>specific_epithet</th>\n",
       "      <th>image_dir_name</th>\n",
       "    </tr>\n",
       "  </thead>\n",
       "  <tbody>\n",
       "    <tr>\n",
       "      <th>4592</th>\n",
       "      <td>4592</td>\n",
       "      <td>Trogon collaris</td>\n",
       "      <td>Collared Trogon</td>\n",
       "      <td>Birds</td>\n",
       "      <td>Animalia</td>\n",
       "      <td>Chordata</td>\n",
       "      <td>Aves</td>\n",
       "      <td>Trogoniformes</td>\n",
       "      <td>Trogonidae</td>\n",
       "      <td>Trogon</td>\n",
       "      <td>collaris</td>\n",
       "      <td>04592_Animalia_Chordata_Aves_Trogoniformes_Tro...</td>\n",
       "    </tr>\n",
       "    <tr>\n",
       "      <th>4593</th>\n",
       "      <td>4593</td>\n",
       "      <td>Trogon elegans</td>\n",
       "      <td>Elegant Trogon</td>\n",
       "      <td>Birds</td>\n",
       "      <td>Animalia</td>\n",
       "      <td>Chordata</td>\n",
       "      <td>Aves</td>\n",
       "      <td>Trogoniformes</td>\n",
       "      <td>Trogonidae</td>\n",
       "      <td>Trogon</td>\n",
       "      <td>elegans</td>\n",
       "      <td>04593_Animalia_Chordata_Aves_Trogoniformes_Tro...</td>\n",
       "    </tr>\n",
       "    <tr>\n",
       "      <th>4594</th>\n",
       "      <td>4594</td>\n",
       "      <td>Trogon massena</td>\n",
       "      <td>Slaty-tailed Trogon</td>\n",
       "      <td>Birds</td>\n",
       "      <td>Animalia</td>\n",
       "      <td>Chordata</td>\n",
       "      <td>Aves</td>\n",
       "      <td>Trogoniformes</td>\n",
       "      <td>Trogonidae</td>\n",
       "      <td>Trogon</td>\n",
       "      <td>massena</td>\n",
       "      <td>04594_Animalia_Chordata_Aves_Trogoniformes_Tro...</td>\n",
       "    </tr>\n",
       "    <tr>\n",
       "      <th>4595</th>\n",
       "      <td>4595</td>\n",
       "      <td>Trogon melanocephalus</td>\n",
       "      <td>Black-headed Trogon</td>\n",
       "      <td>Birds</td>\n",
       "      <td>Animalia</td>\n",
       "      <td>Chordata</td>\n",
       "      <td>Aves</td>\n",
       "      <td>Trogoniformes</td>\n",
       "      <td>Trogonidae</td>\n",
       "      <td>Trogon</td>\n",
       "      <td>melanocephalus</td>\n",
       "      <td>04595_Animalia_Chordata_Aves_Trogoniformes_Tro...</td>\n",
       "    </tr>\n",
       "    <tr>\n",
       "      <th>4596</th>\n",
       "      <td>4596</td>\n",
       "      <td>Trogon rufus</td>\n",
       "      <td>Black-throated Trogon</td>\n",
       "      <td>Birds</td>\n",
       "      <td>Animalia</td>\n",
       "      <td>Chordata</td>\n",
       "      <td>Aves</td>\n",
       "      <td>Trogoniformes</td>\n",
       "      <td>Trogonidae</td>\n",
       "      <td>Trogon</td>\n",
       "      <td>rufus</td>\n",
       "      <td>04596_Animalia_Chordata_Aves_Trogoniformes_Tro...</td>\n",
       "    </tr>\n",
       "  </tbody>\n",
       "</table>\n",
       "</div>"
      ]
     },
     "execution_count": 33,
     "metadata": {},
     "output_type": "execute_result"
    }
   ],
   "execution_count": 33
  },
  {
   "metadata": {
    "ExecuteTime": {
     "end_time": "2025-07-06T14:23:15.246636Z",
     "start_time": "2025-07-06T14:23:15.240336Z"
    }
   },
   "cell_type": "code",
   "source": "xcm_display_name = audio_data[\"display_name\"]",
   "id": "c1e506e7c86fe85a",
   "outputs": [],
   "execution_count": 14
  },
  {
   "metadata": {
    "ExecuteTime": {
     "end_time": "2025-07-06T14:41:37.168033Z",
     "start_time": "2025-07-06T14:41:37.153021Z"
    }
   },
   "cell_type": "code",
   "source": "xcm_display_name",
   "id": "a771efcf8388c8ee",
   "outputs": [
    {
     "data": {
      "text/plain": [
       "0              Great_Tinamou\n",
       "1          Cinereous_Tinamou\n",
       "2             Little_Tinamou\n",
       "3          Undulated_Tinamou\n",
       "4            Horned_Screamer\n",
       "               ...          \n",
       "350             Common_Raven\n",
       "351            Cedar_Waxwing\n",
       "352      European_Greenfinch\n",
       "353    Yellow_fronted_Canary\n",
       "354          Eurasian_Linnet\n",
       "Name: display_name, Length: 355, dtype: object"
      ]
     },
     "execution_count": 34,
     "metadata": {},
     "output_type": "execute_result"
    }
   ],
   "execution_count": 34
  },
  {
   "metadata": {
    "ExecuteTime": {
     "end_time": "2025-07-06T14:43:02.867457Z",
     "start_time": "2025-07-06T14:43:02.851221Z"
    }
   },
   "cell_type": "code",
   "source": "inat_common_name = image_supercategory_filtered[\"common_name\"]",
   "id": "36aa2c316cd6b761",
   "outputs": [],
   "execution_count": 39
  },
  {
   "metadata": {
    "ExecuteTime": {
     "end_time": "2025-07-06T14:43:04.740521Z",
     "start_time": "2025-07-06T14:43:04.734042Z"
    }
   },
   "cell_type": "code",
   "source": "inat_common_name.tail()",
   "id": "d5a4902b5d1be305",
   "outputs": [
    {
     "data": {
      "text/plain": [
       "4592          Collared Trogon\n",
       "4593           Elegant Trogon\n",
       "4594      Slaty-tailed Trogon\n",
       "4595      Black-headed Trogon\n",
       "4596    Black-throated Trogon\n",
       "Name: common_name, dtype: object"
      ]
     },
     "execution_count": 40,
     "metadata": {},
     "output_type": "execute_result"
    }
   ],
   "execution_count": 40
  },
  {
   "metadata": {
    "ExecuteTime": {
     "end_time": "2025-07-06T14:43:37.187248Z",
     "start_time": "2025-07-06T14:43:37.173201Z"
    }
   },
   "cell_type": "code",
   "source": "inat_common_name = inat_common_name.apply( lambda x:  x.replace(\" \", \"_\"))",
   "id": "ef7fe9995c451b54",
   "outputs": [],
   "execution_count": 42
  },
  {
   "metadata": {
    "ExecuteTime": {
     "end_time": "2025-07-06T14:43:45.403916Z",
     "start_time": "2025-07-06T14:43:45.386939Z"
    }
   },
   "cell_type": "code",
   "source": "inat_common_name",
   "id": "e95f684aad8a777e",
   "outputs": [
    {
     "data": {
      "text/plain": [
       "3111                   Shikra\n",
       "3112            Cooper's_Hawk\n",
       "3113         Northern_Goshawk\n",
       "3114     Eurasian_Sparrowhawk\n",
       "3115       Sharp-shinned_Hawk\n",
       "                ...          \n",
       "4592          Collared_Trogon\n",
       "4593           Elegant_Trogon\n",
       "4594      Slaty-tailed_Trogon\n",
       "4595      Black-headed_Trogon\n",
       "4596    Black-throated_Trogon\n",
       "Name: common_name, Length: 1486, dtype: object"
      ]
     },
     "execution_count": 43,
     "metadata": {},
     "output_type": "execute_result"
    }
   ],
   "execution_count": 43
  },
  {
   "metadata": {
    "ExecuteTime": {
     "end_time": "2025-07-06T14:35:38.901669Z",
     "start_time": "2025-07-06T14:35:38.890115Z"
    }
   },
   "cell_type": "code",
   "source": "type(inat_common_name)",
   "id": "1cf259ea8e7a7ea8",
   "outputs": [
    {
     "data": {
      "text/plain": [
       "pandas.core.series.Series"
      ]
     },
     "execution_count": 26,
     "metadata": {},
     "output_type": "execute_result"
    }
   ],
   "execution_count": 26
  },
  {
   "metadata": {
    "ExecuteTime": {
     "end_time": "2025-07-06T14:35:48.883495Z",
     "start_time": "2025-07-06T14:35:48.876089Z"
    }
   },
   "cell_type": "code",
   "source": "type(xcm_display_name)",
   "id": "1323b2cd03739b5c",
   "outputs": [
    {
     "data": {
      "text/plain": [
       "pandas.core.series.Series"
      ]
     },
     "execution_count": 27,
     "metadata": {},
     "output_type": "execute_result"
    }
   ],
   "execution_count": 27
  },
  {
   "metadata": {
    "ExecuteTime": {
     "end_time": "2025-07-06T14:37:04.428544Z",
     "start_time": "2025-07-06T14:37:04.420853Z"
    }
   },
   "cell_type": "code",
   "source": "ls =",
   "id": "f1501d5f36a96935",
   "outputs": [],
   "execution_count": 29
  },
  {
   "metadata": {
    "ExecuteTime": {
     "end_time": "2025-07-06T14:43:51.332390Z",
     "start_time": "2025-07-06T14:43:51.320150Z"
    }
   },
   "cell_type": "code",
   "source": "inter = pd.Series(list(set(inat_common_name) & set(xcm_display_name)))",
   "id": "be5c390789eee595",
   "outputs": [],
   "execution_count": 44
  }
 ],
 "metadata": {
  "kernelspec": {
   "display_name": "Python 3",
   "language": "python",
   "name": "python3"
  },
  "language_info": {
   "codemirror_mode": {
    "name": "ipython",
    "version": 2
   },
   "file_extension": ".py",
   "mimetype": "text/x-python",
   "name": "python",
   "nbconvert_exporter": "python",
   "pygments_lexer": "ipython2",
   "version": "2.7.6"
  }
 },
 "nbformat": 4,
 "nbformat_minor": 5
}
