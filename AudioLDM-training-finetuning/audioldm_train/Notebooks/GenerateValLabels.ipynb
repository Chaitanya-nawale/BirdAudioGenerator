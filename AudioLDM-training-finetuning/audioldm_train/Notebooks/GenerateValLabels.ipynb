{
 "cells": [
  {
   "metadata": {
    "ExecuteTime": {
     "end_time": "2025-06-18T11:59:33.755010Z",
     "start_time": "2025-06-18T11:59:31.179151Z"
    }
   },
   "cell_type": "code",
   "source": [
    "import json\n",
    "import pandas as pd"
   ],
   "id": "cb071a530bb31fba",
   "outputs": [],
   "execution_count": 1
  },
  {
   "metadata": {
    "ExecuteTime": {
     "end_time": "2025-05-29T12:54:21.668577Z",
     "start_time": "2025-05-29T12:54:21.509456Z"
    }
   },
   "cell_type": "code",
   "source": [
    "with open('val_image_audio.json', 'r') as file:\n",
    "    val_image_audio = json.load(file)"
   ],
   "id": "cb2b43aa860d01a",
   "outputs": [],
   "execution_count": 2
  },
  {
   "metadata": {
    "ExecuteTime": {
     "end_time": "2025-05-29T12:55:41.128806Z",
     "start_time": "2025-05-29T12:55:41.007688Z"
    }
   },
   "cell_type": "code",
   "source": [
    "image_audio_dataframe = pd.DataFrame.from_dict(val_image_audio['image_audio_mappings'])\n",
    "audio_categories_dataframe = pd.DataFrame.from_dict(val_image_audio['audio_categories'])\n",
    "audio_dataframe = pd.DataFrame.from_dict(val_image_audio['audio'])\n",
    "audio_annotations_dataframe = pd.DataFrame.from_dict(val_image_audio['audio_annotations'])"
   ],
   "id": "cd57d0c200f6ff38",
   "outputs": [],
   "execution_count": 3
  },
  {
   "metadata": {
    "ExecuteTime": {
     "end_time": "2025-05-29T11:36:00.734708Z",
     "start_time": "2025-05-29T11:34:03.349167Z"
    }
   },
   "cell_type": "code",
   "source": [
    "final_dataframe = pd.DataFrame(columns=['wav', 'labels', 'caption'])\n",
    "curr_id =0\n",
    "for index, row in audio_annotations_dataframe.iterrows():\n",
    "    audio_category = audio_categories_dataframe[audio_categories_dataframe['id'].isin([row['category_id']])]\n",
    "    label = image_audio_dataframe[image_audio_dataframe['audio_category_id'].isin(audio_category['id'])]['id'].iloc[0]\n",
    "    file_name = audio_dataframe[audio_dataframe['id'].isin([row['audio_id']])]['file_name'].iloc[0]\n",
    "    final_dataframe.loc[curr_id] = {'wav': \"val/\"+ file_name, 'labels': label, 'caption': audio_category['common_name'].iloc[0]}\n",
    "    curr_id += 1"
   ],
   "id": "41365da9d67f6ad7",
   "outputs": [],
   "execution_count": 4
  },
  {
   "metadata": {
    "ExecuteTime": {
     "end_time": "2025-05-27T16:29:15.947028Z",
     "start_time": "2025-05-27T16:29:15.884385Z"
    }
   },
   "cell_type": "code",
   "source": [
    "final_data = {}\n",
    "final_data['data'] = final_dataframe.to_dict('records')"
   ],
   "id": "1c364214a56f2ae",
   "outputs": [],
   "execution_count": 5
  },
  {
   "metadata": {
    "ExecuteTime": {
     "end_time": "2025-05-27T16:29:16.125114Z",
     "start_time": "2025-05-27T16:29:15.954931Z"
    }
   },
   "cell_type": "code",
   "source": [
    "with open(\"inaturalist_val_label.json\", \"w\") as f:\n",
    "        json.dump(final_data, f)"
   ],
   "id": "a3e327ae9f09dd12",
   "outputs": [],
   "execution_count": 6
  }
 ],
 "metadata": {
  "kernelspec": {
   "display_name": "Python 3",
   "language": "python",
   "name": "python3"
  },
  "language_info": {
   "codemirror_mode": {
    "name": "ipython",
    "version": 2
   },
   "file_extension": ".py",
   "mimetype": "text/x-python",
   "name": "python",
   "nbconvert_exporter": "python",
   "pygments_lexer": "ipython2",
   "version": "2.7.6"
  }
 },
 "nbformat": 4,
 "nbformat_minor": 5
}
