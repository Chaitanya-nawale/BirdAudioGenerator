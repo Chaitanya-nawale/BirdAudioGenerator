{
 "cells": [
  {
   "cell_type": "code",
   "id": "initial_id",
   "metadata": {
    "collapsed": true,
    "ExecuteTime": {
     "end_time": "2025-05-21T10:51:10.971846Z",
     "start_time": "2025-05-21T10:51:10.541492Z"
    }
   },
   "source": [
    "import json\n",
    "import pandas as pd"
   ],
   "outputs": [],
   "execution_count": 1
  },
  {
   "metadata": {
    "ExecuteTime": {
     "end_time": "2025-05-21T10:51:22.721708Z",
     "start_time": "2025-05-21T10:51:11.719040Z"
    }
   },
   "cell_type": "code",
   "source": [
    "with open('train.json', 'r') as file:\n",
    "    image_data = json.load(file)"
   ],
   "id": "1d8c2d58251a970e",
   "outputs": [],
   "execution_count": 2
  },
  {
   "metadata": {
    "ExecuteTime": {
     "end_time": "2025-05-21T10:51:25.525839Z",
     "start_time": "2025-05-21T10:51:22.741583Z"
    }
   },
   "cell_type": "code",
   "source": [
    "image_dataframe = pd.DataFrame.from_dict(image_data['categories'])\n",
    "image_supercategory_filtered = image_dataframe[image_dataframe[\"supercategory\"].isin([\"Birds\"])]\n",
    "print(len(image_supercategory_filtered))\n",
    "image_annotations = pd.DataFrame.from_dict(image_data['annotations'])\n",
    "image_annotations_filtered = image_annotations[image_annotations[\"category_id\"].isin(image_supercategory_filtered['id'])]\n",
    "print(len(image_annotations_filtered))"
   ],
   "id": "c83a772eb4dc4a1a",
   "outputs": [
    {
     "name": "stdout",
     "output_type": "stream",
     "text": [
      "1486\n",
      "414847\n"
     ]
    }
   ],
   "execution_count": 3
  },
  {
   "metadata": {
    "ExecuteTime": {
     "end_time": "2025-05-19T09:53:32.507460Z",
     "start_time": "2025-05-19T09:53:32.477325Z"
    }
   },
   "cell_type": "code",
   "source": "#len(image_supercategory_filtered['common_name'].unique())",
   "id": "f689a86ee71e22e1",
   "outputs": [
    {
     "data": {
      "text/plain": [
       "1486"
      ]
     },
     "execution_count": 8,
     "metadata": {},
     "output_type": "execute_result"
    }
   ],
   "execution_count": 8
  },
  {
   "metadata": {
    "ExecuteTime": {
     "end_time": "2025-05-21T10:51:25.552755Z",
     "start_time": "2025-05-21T10:51:25.549632Z"
    }
   },
   "cell_type": "code",
   "source": [
    "image_data.pop('info')\n",
    "image_data.pop('licenses')\n",
    "print(image_data.keys())"
   ],
   "id": "139b8a9c7300c020",
   "outputs": [
    {
     "name": "stdout",
     "output_type": "stream",
     "text": [
      "dict_keys(['images', 'categories', 'annotations'])\n"
     ]
    }
   ],
   "execution_count": 4
  },
  {
   "metadata": {
    "ExecuteTime": {
     "end_time": "2025-05-21T10:51:26.033777Z",
     "start_time": "2025-05-21T10:51:25.575759Z"
    }
   },
   "cell_type": "code",
   "source": [
    "# Open and read the JSON file\n",
    "with open('traininat.json', 'r') as file:\n",
    "    audio_data = json.load(file)"
   ],
   "id": "735706515cc759e1",
   "outputs": [],
   "execution_count": 5
  },
  {
   "metadata": {
    "ExecuteTime": {
     "end_time": "2025-05-21T10:51:26.065376Z",
     "start_time": "2025-05-21T10:51:26.047446Z"
    }
   },
   "cell_type": "code",
   "source": [
    "audio_dataframe = pd.DataFrame.from_dict(audio_data['categories'])\n",
    "audio_supercategory_filtered = audio_dataframe[audio_dataframe[\"supercategory\"].isin([\"Aves\"])]\n",
    "print(len(audio_supercategory_filtered))"
   ],
   "id": "78440212ff4a13d9",
   "outputs": [
    {
     "name": "stdout",
     "output_type": "stream",
     "text": [
      "3846\n"
     ]
    }
   ],
   "execution_count": 6
  },
  {
   "metadata": {
    "ExecuteTime": {
     "end_time": "2025-05-19T13:44:46.642532Z",
     "start_time": "2025-05-19T13:44:46.640021Z"
    }
   },
   "cell_type": "code",
   "source": [
    "#print(len(audio_supercategory_filtered['common_name'].unique()))\n",
    "#print(len(audio_supercategory_filtered['name'].unique()))"
   ],
   "id": "bcef10fb9d367c40",
   "outputs": [],
   "execution_count": 7
  },
  {
   "metadata": {
    "ExecuteTime": {
     "end_time": "2025-05-21T10:51:26.223839Z",
     "start_time": "2025-05-21T10:51:26.087881Z"
    }
   },
   "cell_type": "code",
   "source": [
    "audio_annotations = pd.DataFrame.from_dict(audio_data['annotations'])\n",
    "audio_annotations_filtered = audio_annotations[audio_annotations[\"category_id\"].isin(audio_supercategory_filtered['id'])]\n",
    "print(len(audio_annotations_filtered))"
   ],
   "id": "141fe7ea9e52cac1",
   "outputs": [
    {
     "name": "stdout",
     "output_type": "stream",
     "text": [
      "111029\n"
     ]
    }
   ],
   "execution_count": 7
  },
  {
   "metadata": {
    "ExecuteTime": {
     "end_time": "2025-05-19T11:30:04.230881Z",
     "start_time": "2025-05-19T11:30:04.215036Z"
    }
   },
   "cell_type": "code",
   "source": [
    "#audio_supercategory_filtered['name'] = audio_supercategory_filtered['name'].apply(lambda x: x.lower() if isinstance(x, str) else x)\n",
    "#image_supercategory_filtered['name'] = image_supercategory_filtered['name'].apply(lambda x: x.lower() if isinstance(x, str) else x)\n",
    "#audio_supercategory_filtered['common_name'] = audio_supercategory_filtered['common_name'].apply(lambda x: x.lower() if isinstance(x, str) else x)\n",
    "#image_supercategory_filtered['common_name'] = image_supercategory_filtered['common_name'].apply(lambda x: x.lower() if isinstance(x, str) else x)"
   ],
   "id": "d440736ea6e46e33",
   "outputs": [
    {
     "name": "stderr",
     "output_type": "stream",
     "text": [
      "/var/folders/j3/n04hhwvx3v960l20mpqqltsh0000gn/T/ipykernel_97740/3945444.py:1: SettingWithCopyWarning: \n",
      "A value is trying to be set on a copy of a slice from a DataFrame.\n",
      "Try using .loc[row_indexer,col_indexer] = value instead\n",
      "\n",
      "See the caveats in the documentation: https://pandas.pydata.org/pandas-docs/stable/user_guide/indexing.html#returning-a-view-versus-a-copy\n",
      "  filtered_inat_supercategory['name'] = filtered_inat_supercategory['name'].apply(lambda x: x.lower() if isinstance(x, str) else x)\n",
      "/var/folders/j3/n04hhwvx3v960l20mpqqltsh0000gn/T/ipykernel_97740/3945444.py:2: SettingWithCopyWarning: \n",
      "A value is trying to be set on a copy of a slice from a DataFrame.\n",
      "Try using .loc[row_indexer,col_indexer] = value instead\n",
      "\n",
      "See the caveats in the documentation: https://pandas.pydata.org/pandas-docs/stable/user_guide/indexing.html#returning-a-view-versus-a-copy\n",
      "  image_filtered_supercategory['name'] = image_filtered_supercategory['name'].apply(lambda x: x.lower() if isinstance(x, str) else x)\n",
      "/var/folders/j3/n04hhwvx3v960l20mpqqltsh0000gn/T/ipykernel_97740/3945444.py:3: SettingWithCopyWarning: \n",
      "A value is trying to be set on a copy of a slice from a DataFrame.\n",
      "Try using .loc[row_indexer,col_indexer] = value instead\n",
      "\n",
      "See the caveats in the documentation: https://pandas.pydata.org/pandas-docs/stable/user_guide/indexing.html#returning-a-view-versus-a-copy\n",
      "  filtered_inat_supercategory['common_name'] = filtered_inat_supercategory['common_name'].apply(lambda x: x.lower() if isinstance(x, str) else x)\n",
      "/var/folders/j3/n04hhwvx3v960l20mpqqltsh0000gn/T/ipykernel_97740/3945444.py:4: SettingWithCopyWarning: \n",
      "A value is trying to be set on a copy of a slice from a DataFrame.\n",
      "Try using .loc[row_indexer,col_indexer] = value instead\n",
      "\n",
      "See the caveats in the documentation: https://pandas.pydata.org/pandas-docs/stable/user_guide/indexing.html#returning-a-view-versus-a-copy\n",
      "  image_filtered_supercategory['common_name'] = image_filtered_supercategory['common_name'].apply(lambda x: x.lower() if isinstance(x, str) else x)\n"
     ]
    }
   ],
   "execution_count": 42
  },
  {
   "metadata": {
    "ExecuteTime": {
     "end_time": "2025-05-21T10:51:26.251937Z",
     "start_time": "2025-05-21T10:51:26.243052Z"
    }
   },
   "cell_type": "code",
   "source": [
    "audio_name_pairs = audio_supercategory_filtered[audio_supercategory_filtered['name'].isin(image_supercategory_filtered['name'])]\n",
    "print(len(audio_name_pairs))\n",
    "audio_common_name_pairs = audio_supercategory_filtered[audio_supercategory_filtered['common_name'].isin(image_supercategory_filtered['common_name'])]\n",
    "print(len(audio_common_name_pairs))"
   ],
   "id": "c80ea7fcad5e5d2e",
   "outputs": [
    {
     "name": "stdout",
     "output_type": "stream",
     "text": [
      "1220\n",
      "1236\n"
     ]
    }
   ],
   "execution_count": 8
  },
  {
   "metadata": {
    "ExecuteTime": {
     "end_time": "2025-05-19T11:30:11.974073Z",
     "start_time": "2025-05-19T11:30:11.964764Z"
    }
   },
   "cell_type": "code",
   "source": [
    "#row_indexes_m = audio_name_pairs.index.to_list()\n",
    "#df_out = audio_common_name_pairs.loc[~audio_common_name_pairs.index.isin(row_indexes_m)]"
   ],
   "id": "60e5536dbbd54ebc",
   "outputs": [],
   "execution_count": 44
  },
  {
   "metadata": {
    "ExecuteTime": {
     "end_time": "2025-05-19T13:44:55.699832Z",
     "start_time": "2025-05-19T13:44:55.693458Z"
    }
   },
   "cell_type": "code",
   "source": "#print(audio_supercategory_filtered[audio_supercategory_filtered['common_name'].isin(['Crested Caracara'])])",
   "id": "fd29646f8e7b4ff5",
   "outputs": [
    {
     "name": "stdout",
     "output_type": "stream",
     "text": [
      "        id              name       common_name supercategory   kingdom  \\\n",
      "2078  2078  Caracara plancus  Crested Caracara          Aves  Animalia   \n",
      "\n",
      "        phylum class          order      family     genus specific_epithet  \\\n",
      "2078  Chordata  Aves  Falconiformes  Falconidae  Caracara          plancus   \n",
      "\n",
      "                                         audio_dir_name  evaluation  \n",
      "2078  02078_Animalia_Chordata_Aves_Falconiformes_Fal...           1  \n"
     ]
    }
   ],
   "execution_count": 10
  },
  {
   "metadata": {
    "ExecuteTime": {
     "end_time": "2025-05-19T12:54:49.957709Z",
     "start_time": "2025-05-19T12:54:49.949492Z"
    }
   },
   "cell_type": "code",
   "source": "#print(image_supercategory_filtered[image_supercategory_filtered['common_name'].isin(['Crested Caracara'])])",
   "id": "11e59f69f3c08aca",
   "outputs": [
    {
     "name": "stdout",
     "output_type": "stream",
     "text": [
      "        id               name       common_name supercategory   kingdom  \\\n",
      "3592  3592  Caracara cheriway  Crested Caracara         Birds  Animalia   \n",
      "\n",
      "        phylum class          order      family     genus specific_epithet  \\\n",
      "3592  Chordata  Aves  Falconiformes  Falconidae  Caracara         cheriway   \n",
      "\n",
      "                                         image_dir_name  \n",
      "3592  03592_Animalia_Chordata_Aves_Falconiformes_Fal...  \n"
     ]
    }
   ],
   "execution_count": 22
  },
  {
   "metadata": {
    "ExecuteTime": {
     "end_time": "2025-05-21T10:51:30.233395Z",
     "start_time": "2025-05-21T10:51:30.219868Z"
    }
   },
   "cell_type": "code",
   "source": [
    "final_audio_pairs = pd.concat([audio_name_pairs, audio_common_name_pairs])\n",
    "final_audio_pairs.drop_duplicates(inplace=True)\n",
    "print(len(final_audio_pairs))"
   ],
   "id": "7243e00824b96184",
   "outputs": [
    {
     "name": "stdout",
     "output_type": "stream",
     "text": [
      "1245\n"
     ]
    }
   ],
   "execution_count": 9
  },
  {
   "metadata": {},
   "cell_type": "code",
   "outputs": [],
   "execution_count": null,
   "source": [
    "#row_indexes_m2 = audio_common_name_pairs.index.to_list()\n",
    "#df_out2 = final_audio_pairs.loc[~final_audio_pairs.index.isin(row_indexes_m2)]"
   ],
   "id": "c6fa724170cc2503"
  },
  {
   "metadata": {
    "ExecuteTime": {
     "end_time": "2025-05-19T12:52:09.048891Z",
     "start_time": "2025-05-19T12:52:09.025488Z"
    }
   },
   "cell_type": "code",
   "source": "#print(audio_supercategory_filtered[audio_supercategory_filtered['name'].isin(['Caracara plancus'])])",
   "id": "37c0a78ec24e607f",
   "outputs": [
    {
     "name": "stdout",
     "output_type": "stream",
     "text": [
      "        id              name       common_name supercategory   kingdom  \\\n",
      "2078  2078  Caracara plancus  Crested Caracara          Aves  Animalia   \n",
      "\n",
      "        phylum class          order      family     genus specific_epithet  \\\n",
      "2078  Chordata  Aves  Falconiformes  Falconidae  Caracara          plancus   \n",
      "\n",
      "                                         audio_dir_name  evaluation  \n",
      "2078  02078_Animalia_Chordata_Aves_Falconiformes_Fal...           1  \n"
     ]
    }
   ],
   "execution_count": 17
  },
  {
   "metadata": {
    "ExecuteTime": {
     "end_time": "2025-05-19T12:52:17.679366Z",
     "start_time": "2025-05-19T12:52:17.673130Z"
    }
   },
   "cell_type": "code",
   "source": "#print(image_supercategory_filtered[image_supercategory_filtered['name'].isin(['Caracara plancus'])])",
   "id": "c8c2a8fb9419ccaa",
   "outputs": [
    {
     "name": "stdout",
     "output_type": "stream",
     "text": [
      "        id              name        common_name supercategory   kingdom  \\\n",
      "3593  3593  Caracara plancus  Southern Caracara         Birds  Animalia   \n",
      "\n",
      "        phylum class          order      family     genus specific_epithet  \\\n",
      "3593  Chordata  Aves  Falconiformes  Falconidae  Caracara          plancus   \n",
      "\n",
      "                                         image_dir_name  \n",
      "3593  03593_Animalia_Chordata_Aves_Falconiformes_Fal...  \n"
     ]
    }
   ],
   "execution_count": 18
  },
  {
   "metadata": {
    "ExecuteTime": {
     "end_time": "2025-05-21T10:51:38.921395Z",
     "start_time": "2025-05-21T10:51:38.913889Z"
    }
   },
   "cell_type": "code",
   "source": [
    "image_name_pairs = image_supercategory_filtered[image_supercategory_filtered['name'].isin(audio_supercategory_filtered['name'])]\n",
    "print(len(image_name_pairs))\n",
    "image_common_name_pairs = image_supercategory_filtered[image_supercategory_filtered['common_name'].isin(audio_supercategory_filtered['common_name'])]\n",
    "print(len(image_common_name_pairs))"
   ],
   "id": "bbb48fdb80f96289",
   "outputs": [
    {
     "name": "stdout",
     "output_type": "stream",
     "text": [
      "1220\n",
      "1236\n"
     ]
    }
   ],
   "execution_count": 10
  },
  {
   "metadata": {
    "ExecuteTime": {
     "end_time": "2025-05-21T10:51:42.339196Z",
     "start_time": "2025-05-21T10:51:42.329823Z"
    }
   },
   "cell_type": "code",
   "source": [
    "final_image_pairs = pd.concat([image_name_pairs, image_common_name_pairs])\n",
    "final_image_pairs.drop_duplicates(inplace=True)\n",
    "print(len(final_image_pairs))"
   ],
   "id": "28f42884d5b60c55",
   "outputs": [
    {
     "name": "stdout",
     "output_type": "stream",
     "text": [
      "1246\n"
     ]
    }
   ],
   "execution_count": 11
  },
  {
   "metadata": {
    "ExecuteTime": {
     "end_time": "2025-05-19T12:49:07.256633Z",
     "start_time": "2025-05-19T12:49:07.241301Z"
    }
   },
   "cell_type": "code",
   "source": [
    "#row_indexes_m2 = audio_common_name_pairs.index.to_list()\n",
    "#df_out2 = final_audio_pairs.loc[~final_audio_pairs.index.isin(row_indexes_m2)]"
   ],
   "id": "589c8577cb785969",
   "outputs": [],
   "execution_count": 15
  },
  {
   "metadata": {
    "ExecuteTime": {
     "end_time": "2025-05-19T12:50:24.130205Z",
     "start_time": "2025-05-19T12:50:24.112553Z"
    }
   },
   "cell_type": "code",
   "source": [
    "#row_indexes_m1 = image_common_name_pairs.index.to_list()\n",
    "#df_out1 = final_image_pairs.loc[~final_image_pairs.index.isin(row_indexes_m1)]"
   ],
   "id": "db707cc8324cdd89",
   "outputs": [],
   "execution_count": 16
  },
  {
   "metadata": {
    "ExecuteTime": {
     "end_time": "2025-05-21T10:51:45.397311Z",
     "start_time": "2025-05-21T10:51:45.391677Z"
    }
   },
   "cell_type": "code",
   "source": [
    "final_image_pairs = final_image_pairs[~final_image_pairs['name'].isin(['Caracara plancus','Caracara cheriway'])]\n",
    "print(len(final_image_pairs))"
   ],
   "id": "8e7fcd0f5ab653e3",
   "outputs": [
    {
     "name": "stdout",
     "output_type": "stream",
     "text": [
      "1244\n"
     ]
    }
   ],
   "execution_count": 12
  },
  {
   "metadata": {
    "ExecuteTime": {
     "end_time": "2025-05-21T10:51:59.124277Z",
     "start_time": "2025-05-21T10:51:59.116268Z"
    }
   },
   "cell_type": "code",
   "source": [
    "final_audio_pairs = final_audio_pairs[~final_audio_pairs['name'].isin(['Caracara plancus','Caracara cheriway'])]\n",
    "print(len(final_audio_pairs))"
   ],
   "id": "b92e598f877e0795",
   "outputs": [
    {
     "name": "stdout",
     "output_type": "stream",
     "text": [
      "1244\n"
     ]
    }
   ],
   "execution_count": 13
  },
  {
   "metadata": {
    "ExecuteTime": {
     "end_time": "2025-05-21T10:52:12.152608Z",
     "start_time": "2025-05-21T10:52:03.864257Z"
    }
   },
   "cell_type": "code",
   "source": [
    "final_image_annotations_filtered = image_annotations[image_annotations[\"category_id\"].isin(final_image_pairs['id'])]\n",
    "print(len(final_image_annotations_filtered))\n",
    "image_data_images = pd.DataFrame.from_dict(image_data['images'])\n",
    "image_data_images_filtered = image_data_images[image_data_images[\"id\"].isin(final_image_annotations_filtered['image_id'])]\n",
    "print(len(image_data_images_filtered))\n",
    "image_data['images'] = image_data_images_filtered\n",
    "image_data['annotations'] = final_image_annotations_filtered\n",
    "image_data['categories'] = final_image_pairs\n",
    "print(image_data.keys())"
   ],
   "id": "5bedc7520eb3d57c",
   "outputs": [
    {
     "name": "stdout",
     "output_type": "stream",
     "text": [
      "351206\n",
      "351206\n",
      "dict_keys(['images', 'categories', 'annotations'])\n"
     ]
    }
   ],
   "execution_count": 14
  },
  {
   "metadata": {
    "ExecuteTime": {
     "end_time": "2025-05-21T10:52:12.180446Z",
     "start_time": "2025-05-21T10:52:12.171155Z"
    }
   },
   "cell_type": "code",
   "source": [
    "final_audio_annotations_filtered = audio_annotations[audio_annotations[\"category_id\"].isin(final_audio_pairs['id'])]\n",
    "print(len(final_audio_annotations_filtered))"
   ],
   "id": "af1e6dd510814120",
   "outputs": [
    {
     "name": "stdout",
     "output_type": "stream",
     "text": [
      "98325\n"
     ]
    }
   ],
   "execution_count": 15
  },
  {
   "metadata": {
    "ExecuteTime": {
     "end_time": "2025-05-19T14:03:32.712608Z",
     "start_time": "2025-05-19T14:03:32.695945Z"
    }
   },
   "cell_type": "code",
   "source": "#print(final_audio_pairs[final_audio_pairs[\"common_name\"]])",
   "id": "48d91ebfcbfbf473",
   "outputs": [
    {
     "name": "stdout",
     "output_type": "stream",
     "text": [
      "Empty DataFrame\n",
      "Columns: [id, name, common_name, supercategory, kingdom, phylum, class, order, family, genus, specific_epithet, audio_dir_name, evaluation]\n",
      "Index: []\n"
     ]
    }
   ],
   "execution_count": 31
  },
  {
   "metadata": {
    "ExecuteTime": {
     "end_time": "2025-05-21T10:52:12.262576Z",
     "start_time": "2025-05-21T10:52:12.259591Z"
    }
   },
   "cell_type": "code",
   "source": [
    "audio_data.pop('info')\n",
    "audio_data.pop('licenses')\n",
    "print(audio_data.keys())"
   ],
   "id": "be8ddc297f0ebd40",
   "outputs": [
    {
     "name": "stdout",
     "output_type": "stream",
     "text": [
      "dict_keys(['categories', 'audio', 'annotations'])\n"
     ]
    }
   ],
   "execution_count": 16
  },
  {
   "metadata": {
    "ExecuteTime": {
     "end_time": "2025-05-21T10:52:12.638813Z",
     "start_time": "2025-05-21T10:52:12.358741Z"
    }
   },
   "cell_type": "code",
   "source": [
    "audio_data_audios = pd.DataFrame.from_dict(audio_data['audio'])\n",
    "audio_data_audios_filtered = audio_data_audios[audio_data_audios[\"id\"].isin(final_audio_annotations_filtered['audio_id'])]\n",
    "print(len(audio_data_audios_filtered))\n",
    "audio_data['audio'] = audio_data_audios_filtered\n",
    "audio_data['annotations'] = final_audio_annotations_filtered\n",
    "audio_data['categories'] = final_audio_pairs\n",
    "print(audio_data.keys())"
   ],
   "id": "be8d8b660788b586",
   "outputs": [
    {
     "name": "stdout",
     "output_type": "stream",
     "text": [
      "98325\n",
      "dict_keys(['categories', 'audio', 'annotations'])\n"
     ]
    }
   ],
   "execution_count": 17
  },
  {
   "metadata": {
    "ExecuteTime": {
     "end_time": "2025-05-21T10:52:28.393603Z",
     "start_time": "2025-05-21T10:52:27.382885Z"
    }
   },
   "cell_type": "code",
   "source": [
    "name_mappings = final_audio_pairs[final_audio_pairs['name'].isin(final_image_pairs['name'])]\n",
    "mapping_dataframe = pd.DataFrame(columns=['id', 'image_category_id', 'audio_category_id'])\n",
    "curr_id =1\n",
    "for index, row in name_mappings.iterrows():\n",
    "    image_ref = final_image_pairs[final_image_pairs['name'].isin([row['name']])]['id'].iloc[0]\n",
    "    mapping_dataframe.loc[len(mapping_dataframe)] = {'id': curr_id, 'image_category_id': image_ref, 'audio_category_id': row['id']}\n",
    "    curr_id += 1"
   ],
   "id": "62e87ff230cf4762",
   "outputs": [],
   "execution_count": 18
  },
  {
   "metadata": {
    "ExecuteTime": {
     "end_time": "2025-05-21T10:52:31.135600Z",
     "start_time": "2025-05-21T10:52:31.132564Z"
    }
   },
   "cell_type": "code",
   "source": "print(len(mapping_dataframe))",
   "id": "604e173b3d124340",
   "outputs": [
    {
     "name": "stdout",
     "output_type": "stream",
     "text": [
      "1219\n"
     ]
    }
   ],
   "execution_count": 19
  },
  {
   "metadata": {
    "ExecuteTime": {
     "end_time": "2025-05-21T10:52:37.834849Z",
     "start_time": "2025-05-21T10:52:37.830323Z"
    }
   },
   "cell_type": "code",
   "source": [
    "row_indexes_m1 = audio_name_pairs.index.to_list()\n",
    "df_out1 = final_audio_pairs.loc[~final_audio_pairs.index.isin(row_indexes_m1)]"
   ],
   "id": "a1afe8f09258eab6",
   "outputs": [],
   "execution_count": 20
  },
  {
   "metadata": {
    "ExecuteTime": {
     "end_time": "2025-05-21T10:52:39.160993Z",
     "start_time": "2025-05-21T10:52:39.128832Z"
    }
   },
   "cell_type": "code",
   "source": [
    "for index, row in df_out1.iterrows():\n",
    "    image_ref = final_image_pairs[final_image_pairs['common_name'].isin([row['common_name']])]['id'].iloc[0]\n",
    "    mapping_dataframe.loc[len(mapping_dataframe)] = {'id': curr_id, 'image_category_id': image_ref, 'audio_category_id': row['id']}\n",
    "    curr_id += 1"
   ],
   "id": "f2c4a569671a026c",
   "outputs": [],
   "execution_count": 21
  },
  {
   "metadata": {
    "ExecuteTime": {
     "end_time": "2025-05-21T10:52:40.310716Z",
     "start_time": "2025-05-21T10:52:40.305401Z"
    }
   },
   "cell_type": "code",
   "source": "print(len(mapping_dataframe))",
   "id": "45c6d1a41981bb85",
   "outputs": [
    {
     "name": "stdout",
     "output_type": "stream",
     "text": [
      "1244\n"
     ]
    }
   ],
   "execution_count": 22
  },
  {
   "metadata": {
    "ExecuteTime": {
     "end_time": "2025-05-21T10:52:46.674965Z",
     "start_time": "2025-05-21T10:52:43.898982Z"
    }
   },
   "cell_type": "code",
   "source": [
    "final_data = {}\n",
    "final_data['image_audio_mappings'] = mapping_dataframe.to_dict('records')\n",
    "final_data['images'] = image_data['images'].to_dict('records')\n",
    "final_data['image_annotations'] = image_data['annotations'].to_dict('records')\n",
    "final_data['image_categories'] = image_data['categories'].to_dict('records')\n",
    "final_data['audio'] = audio_data['audio'].to_dict('records')\n",
    "final_data['audio_annotations'] = audio_data['annotations'].to_dict('records')\n",
    "final_data['audio_categories'] = audio_data['categories'].to_dict('records')"
   ],
   "id": "f40ae2e7ba600b40",
   "outputs": [],
   "execution_count": 23
  },
  {
   "metadata": {
    "ExecuteTime": {
     "end_time": "2025-05-19T15:44:38.446890Z",
     "start_time": "2025-05-19T15:44:37.291562Z"
    }
   },
   "cell_type": "code",
   "source": [
    "with open(\"val_image_audio.json\", \"w\") as f:\n",
    "        json.dump(final_data, f)"
   ],
   "id": "dc3de27cb61e89df",
   "outputs": [],
   "execution_count": 24
  },
  {
   "metadata": {
    "ExecuteTime": {
     "end_time": "2025-05-19T15:29:07.834679Z",
     "start_time": "2025-05-19T15:28:52.357567Z"
    }
   },
   "cell_type": "code",
   "source": [
    "with open('train.json', 'r') as file:\n",
    "    temp_data = json.load(file)\n",
    "print(len(temp_data))"
   ],
   "id": "1b4b818c3bae42ce",
   "outputs": [
    {
     "name": "stdout",
     "output_type": "stream",
     "text": [
      "5\n"
     ]
    }
   ],
   "execution_count": 23
  }
 ],
 "metadata": {
  "kernelspec": {
   "display_name": "Python 3",
   "language": "python",
   "name": "python3"
  },
  "language_info": {
   "codemirror_mode": {
    "name": "ipython",
    "version": 2
   },
   "file_extension": ".py",
   "mimetype": "text/x-python",
   "name": "python",
   "nbconvert_exporter": "python",
   "pygments_lexer": "ipython2",
   "version": "2.7.6"
  }
 },
 "nbformat": 4,
 "nbformat_minor": 5
}
