{
 "cells": [
  {
   "metadata": {
    "ExecuteTime": {
     "end_time": "2025-06-11T12:14:01.031463Z",
     "start_time": "2025-06-11T12:14:00.697030Z"
    }
   },
   "cell_type": "code",
   "source": [
    "import json\n",
    "import pandas as pd"
   ],
   "id": "cb071a530bb31fba",
   "outputs": [],
   "execution_count": 1
  },
  {
   "metadata": {
    "ExecuteTime": {
     "end_time": "2025-06-11T12:14:01.254645Z",
     "start_time": "2025-06-11T12:14:01.143020Z"
    }
   },
   "cell_type": "code",
   "source": [
    "with open('val_image_audio.json', 'r') as file:\n",
    "    val_image_audio = json.load(file)"
   ],
   "id": "cb2b43aa860d01a",
   "outputs": [],
   "execution_count": 2
  },
  {
   "metadata": {
    "ExecuteTime": {
     "end_time": "2025-06-11T12:14:02.313680Z",
     "start_time": "2025-06-11T12:14:02.182145Z"
    }
   },
   "cell_type": "code",
   "source": [
    "with open('test.json', 'r') as file:\n",
    "    test_audio = json.load(file)"
   ],
   "id": "4c43cf83e51b59df",
   "outputs": [],
   "execution_count": 3
  },
  {
   "metadata": {
    "ExecuteTime": {
     "end_time": "2025-06-11T12:14:03.525354Z",
     "start_time": "2025-06-11T12:14:03.424611Z"
    }
   },
   "cell_type": "code",
   "source": [
    "image_audio_dataframe = pd.DataFrame.from_dict(val_image_audio['image_audio_mappings'])\n",
    "audio_categories_dataframe = pd.DataFrame.from_dict(val_image_audio['audio_categories'])\n",
    "audio_dataframe = pd.DataFrame.from_dict(test_audio['audio'])\n",
    "audio_annotations_dataframe = pd.DataFrame.from_dict(test_audio['annotations'])"
   ],
   "id": "cd57d0c200f6ff38",
   "outputs": [],
   "execution_count": 4
  },
  {
   "metadata": {
    "ExecuteTime": {
     "end_time": "2025-06-11T12:15:19.004098Z",
     "start_time": "2025-06-11T12:14:05.652528Z"
    }
   },
   "cell_type": "code",
   "source": [
    "final_dataframe = pd.DataFrame(columns=['wav', 'labels', 'caption'])\n",
    "curr_id =0\n",
    "for index, row in audio_annotations_dataframe.iterrows():\n",
    "    audio_category = audio_categories_dataframe[audio_categories_dataframe['id'].isin([row['category_id']])]\n",
    "    if(audio_category.shape[0] > 0):\n",
    "        label = image_audio_dataframe[image_audio_dataframe['audio_category_id'].isin(audio_category['id'])]['id'].iloc[0]\n",
    "        file_name = audio_dataframe[audio_dataframe['id'].isin([row['audio_id']])]['file_name'].iloc[0]\n",
    "        final_dataframe.loc[curr_id] = {'wav': \"test/\"+ file_name, 'labels': label, 'caption': audio_category['common_name'].iloc[0].replace(\" \", \"_\")}\n",
    "        curr_id += 1"
   ],
   "id": "41365da9d67f6ad7",
   "outputs": [],
   "execution_count": 5
  },
  {
   "metadata": {
    "ExecuteTime": {
     "end_time": "2025-06-11T12:15:19.082561Z",
     "start_time": "2025-06-11T12:15:19.072010Z"
    }
   },
   "cell_type": "code",
   "source": "short_dataframe = final_dataframe.sample(n=10000, replace=False, random_state=42)",
   "id": "1987c213dff90a98",
   "outputs": [],
   "execution_count": 6
  },
  {
   "metadata": {
    "ExecuteTime": {
     "end_time": "2025-06-11T12:15:19.121603Z",
     "start_time": "2025-06-11T12:15:19.117837Z"
    }
   },
   "cell_type": "code",
   "source": "print(len(short_dataframe))",
   "id": "1ca7f3a6b6aea94e",
   "outputs": [
    {
     "name": "stdout",
     "output_type": "stream",
     "text": [
      "10000\n"
     ]
    }
   ],
   "execution_count": 7
  },
  {
   "metadata": {
    "ExecuteTime": {
     "end_time": "2025-06-11T12:15:19.211620Z",
     "start_time": "2025-06-11T12:15:19.170309Z"
    }
   },
   "cell_type": "code",
   "source": [
    "final_data = {}\n",
    "final_data['data'] = final_dataframe.to_dict('records')"
   ],
   "id": "1c364214a56f2ae",
   "outputs": [],
   "execution_count": 8
  },
  {
   "metadata": {
    "ExecuteTime": {
     "end_time": "2025-06-11T12:15:19.361561Z",
     "start_time": "2025-06-11T12:15:19.226880Z"
    }
   },
   "cell_type": "code",
   "source": [
    "with open(\"inaturalist_test_label_v2.json\", \"w\") as f:\n",
    "        json.dump(final_data, f)"
   ],
   "id": "a3e327ae9f09dd12",
   "outputs": [],
   "execution_count": 9
  },
  {
   "metadata": {
    "ExecuteTime": {
     "end_time": "2025-06-11T12:15:36.521933Z",
     "start_time": "2025-06-11T12:15:36.494503Z"
    }
   },
   "cell_type": "code",
   "source": [
    "short_data = {}\n",
    "short_data['data'] = short_dataframe.to_dict('records')"
   ],
   "id": "4b40a990fed91246",
   "outputs": [],
   "execution_count": 10
  },
  {
   "metadata": {
    "ExecuteTime": {
     "end_time": "2025-06-11T12:15:37.437190Z",
     "start_time": "2025-06-11T12:15:37.393233Z"
    }
   },
   "cell_type": "code",
   "source": [
    "with open(\"inaturalist_test_short_label_v2.json\", \"w\") as f:\n",
    "    json.dump(short_data, f)"
   ],
   "id": "1aaa1352bb02d142",
   "outputs": [],
   "execution_count": 11
  }
 ],
 "metadata": {
  "kernelspec": {
   "display_name": "Python 3",
   "language": "python",
   "name": "python3"
  },
  "language_info": {
   "codemirror_mode": {
    "name": "ipython",
    "version": 2
   },
   "file_extension": ".py",
   "mimetype": "text/x-python",
   "name": "python",
   "nbconvert_exporter": "python",
   "pygments_lexer": "ipython2",
   "version": "2.7.6"
  }
 },
 "nbformat": 4,
 "nbformat_minor": 5
}
