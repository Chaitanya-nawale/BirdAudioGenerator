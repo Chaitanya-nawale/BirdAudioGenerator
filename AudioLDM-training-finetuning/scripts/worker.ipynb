{
 "cells": [
  {
   "cell_type": "code",
   "execution_count": null,
   "id": "5a2bb73a",
   "metadata": {},
   "outputs": [],
   "source": [
    "import os\n",
    "import shutil\n",
    "\n",
    "def copy_wav_files(file_names, src_folder, dst_folder):\n",
    "    \"\"\"\n",
    "    Copies .wav files listed in file_names from src_folder to dst_folder.\n",
    "\n",
    "    Args:\n",
    "        file_names (list): List of .wav file names (with extension).\n",
    "        src_folder (str): Source directory path.\n",
    "        dst_folder (str): Destination directory path.\n",
    "    \"\"\"\n",
    "    os.makedirs(dst_folder, exist_ok=True)\n",
    "    for file_name in file_names:\n",
    "        src_path = os.path.join(src_folder, file_name)\n",
    "        dst_path = os.path.join(dst_folder, file_name)\n",
    "        if os.path.isfile(src_path):\n",
    "            shutil.copy2(src_path, dst_path)\n",
    "        else:\n",
    "            print(f\"File not found: {src_path}\")\n",
    "\n",
    "# Example usage:\n",
    "file_names=  ['1e8e863e-1b90-4751-b1cd-8faeaff477b2.wav',\n",
    " '1fbc1395-2fe6-4bf5-bbe5-9a37a617ea2b.wav',\n",
    " '13d91b3d-2411-4057-a4a5-551fc7f1dea5.wav',\n",
    " '21c81e4f-b507-4f3d-9c49-e7b4490b28fc.wav',\n",
    " '412b4df7-8e22-45d0-a2f1-769afef6d579.wav',\n",
    " '936363d2-2f98-41fd-8308-ffe5faaacb96.wav',\n",
    " '987193b2-a649-475d-9110-62f6888f9ecc.wav',\n",
    " 'c0f0a946-8cf1-4257-a6bf-283802f7fc44.wav',\n",
    " 'd7346d89-89ea-49da-839d-47b6ea22b82e.wav',\n",
    " 'f316c4e0-b4f9-416d-b22f-a53da7c92b90.wav']\n",
    "copy_wav_files(file_names, '/hpcwork/lect0151/stablelofieditor/AudioLDM-training-finetuning/log/testset_data/inaturalist', '/hpcwork/lect0151/stablelofieditor/AudioLDM-training-finetuning/scripts/test_data')"
   ]
  },
  {
   "cell_type": "code",
   "execution_count": null,
   "id": "b365068b",
   "metadata": {},
   "outputs": [],
   "source": []
  }
 ],
 "metadata": {
  "kernelspec": {
   "display_name": "Python 3",
   "language": "python",
   "name": "python3"
  },
  "language_info": {
   "name": "python",
   "version": "3.11.11"
  }
 },
 "nbformat": 4,
 "nbformat_minor": 5
}
